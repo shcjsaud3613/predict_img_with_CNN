{
  "nbformat": 4,
  "nbformat_minor": 0,
  "metadata": {
    "colab": {
      "name": "predict_multi_img_with_CNN.ipynb",
      "provenance": [],
      "collapsed_sections": [],
      "authorship_tag": "ABX9TyPbeeYarigb0UvCbKlTVn7O",
      "include_colab_link": true
    },
    "kernelspec": {
      "name": "python3",
      "display_name": "Python 3"
    },
    "language_info": {
      "name": "python"
    }
  },
  "cells": [
    {
      "cell_type": "markdown",
      "metadata": {
        "id": "view-in-github",
        "colab_type": "text"
      },
      "source": [
        "<a href=\"https://colab.research.google.com/github/shcjsaud3613/predict_img_with_CNN/blob/main/predict_multi_img_with_CNN.ipynb\" target=\"_parent\"><img src=\"https://colab.research.google.com/assets/colab-badge.svg\" alt=\"Open In Colab\"/></a>"
      ]
    },
    {
      "cell_type": "markdown",
      "metadata": {
        "id": "2x7MQixkIMKM"
      },
      "source": [
        "# CNN을 통한 다중 이미지 학습"
      ]
    },
    {
      "cell_type": "markdown",
      "metadata": {
        "id": "7QQOaOx2ISqq"
      },
      "source": [
        "## Google Colab 링크\n",
        "\n",
        "https://colab.research.google.com/drive/1GcJCFBzVJS-zfe-3XAdXauxXtVHPsdmQ#scrollTo=7QQOaOx2ISqq"
      ]
    },
    {
      "cell_type": "markdown",
      "metadata": {
        "id": "hoatHnYKI8pK"
      },
      "source": [
        "**학습 데이터세트는 AI Hub에서 신청하여 받았고, 저작자는 한국지능정보사회진흥원이다.**"
      ]
    },
    {
      "cell_type": "markdown",
      "metadata": {
        "id": "iEmmauQdIX_g"
      },
      "source": [
        "## 참고자료"
      ]
    },
    {
      "cell_type": "markdown",
      "metadata": {
        "id": "0tL3u_nwIclv"
      },
      "source": [
        "https://lsjsj92.tistory.com/387"
      ]
    },
    {
      "cell_type": "code",
      "metadata": {
        "id": "GknSALBMJB9e"
      },
      "source": [
        "# Google Colab 재시작\n",
        "!kill -9 -1"
      ],
      "execution_count": null,
      "outputs": []
    },
    {
      "cell_type": "markdown",
      "metadata": {
        "id": "B0xozfumIjB8"
      },
      "source": [
        "## 데이터세트 다운로드"
      ]
    },
    {
      "cell_type": "markdown",
      "metadata": {
        "id": "HGtfA_LdIyde"
      },
      "source": [
        "구글 드라이브에 업로드한 zip 파일을 File ID로 다운받고 압축을 해제한다."
      ]
    },
    {
      "cell_type": "code",
      "metadata": {
        "colab": {
          "base_uri": "https://localhost:8080/"
        },
        "id": "7rCuKfnCIm7A",
        "outputId": "df3b1310-ea9a-4a4a-b956-82eb72f29933"
      },
      "source": [
        "!gdown --id 1AeNCnN8nOQI2q3p7kpeht2y6Aa95eHmT --output other_food.zip"
      ],
      "execution_count": 1,
      "outputs": [
        {
          "output_type": "stream",
          "text": [
            "Downloading...\n",
            "From: https://drive.google.com/uc?id=1AeNCnN8nOQI2q3p7kpeht2y6Aa95eHmT\n",
            "To: /content/other_food.zip\n",
            "348MB [00:02, 164MB/s]\n"
          ],
          "name": "stdout"
        }
      ]
    },
    {
      "cell_type": "code",
      "metadata": {
        "colab": {
          "base_uri": "https://localhost:8080/"
        },
        "id": "a2QPAQNnL6-b",
        "outputId": "fc35bfa7-ccbd-49e9-9fed-f2b516840fdb"
      },
      "source": [
        "!gdown --id 1WWP5_j1QXTKPYyREPuT7-d7IQdGgldgB --output img_test.zip"
      ],
      "execution_count": 2,
      "outputs": [
        {
          "output_type": "stream",
          "text": [
            "Downloading...\n",
            "From: https://drive.google.com/uc?id=1WWP5_j1QXTKPYyREPuT7-d7IQdGgldgB\n",
            "To: /content/img_test.zip\n",
            "\r  0% 0.00/1.90M [00:00<?, ?B/s]\r100% 1.90M/1.90M [00:00<00:00, 60.1MB/s]\n"
          ],
          "name": "stdout"
        }
      ]
    },
    {
      "cell_type": "markdown",
      "metadata": {
        "id": "quvn8e64MCL4"
      },
      "source": [
        "`other_food`는 훈련 데이터, `img_test`는 검증 데이터다."
      ]
    },
    {
      "cell_type": "code",
      "metadata": {
        "id": "QHD_iCiZL6CH"
      },
      "source": [
        "!unzip other_food.zip"
      ],
      "execution_count": null,
      "outputs": []
    },
    {
      "cell_type": "code",
      "metadata": {
        "id": "6TJppBKVIqqE"
      },
      "source": [
        "!unzip img_test.zip"
      ],
      "execution_count": null,
      "outputs": []
    },
    {
      "cell_type": "markdown",
      "metadata": {
        "id": "nC8WERctIpqu"
      },
      "source": [
        "경로를 지정하고 데이터세트 이미지 개수를 확인한다."
      ]
    },
    {
      "cell_type": "code",
      "metadata": {
        "id": "ees9EGzDIy_w"
      },
      "source": [
        "import pathlib\n",
        "img_dir = 'other_food'\n",
        "data_dir = pathlib.Path(img_dir)"
      ],
      "execution_count": 5,
      "outputs": []
    },
    {
      "cell_type": "code",
      "metadata": {
        "colab": {
          "base_uri": "https://localhost:8080/"
        },
        "id": "VkEgbRQnI0mc",
        "outputId": "52dd9e79-9004-44c8-ecff-a598079651cb"
      },
      "source": [
        "image_count = len(list(data_dir.glob('*/*.jpg')))\n",
        "print(image_count)"
      ],
      "execution_count": 6,
      "outputs": [
        {
          "output_type": "stream",
          "text": [
            "2903\n"
          ],
          "name": "stdout"
        }
      ]
    },
    {
      "cell_type": "markdown",
      "metadata": {
        "id": "vfJQFQ1zJVnc"
      },
      "source": [
        "## 멀티라벨 분류"
      ]
    },
    {
      "cell_type": "markdown",
      "metadata": {
        "id": "UBqWWHTYKwVF"
      },
      "source": [
        "데이터세트를 `콩자반`, `피자`, `후라이드치킨` 3가지로 분류한다."
      ]
    },
    {
      "cell_type": "code",
      "metadata": {
        "id": "FwQwSuKDJtkp"
      },
      "source": [
        "from PIL import Image\n",
        "import os, glob, numpy as np\n",
        "from sklearn.model_selection import train_test_split"
      ],
      "execution_count": 7,
      "outputs": []
    },
    {
      "cell_type": "code",
      "metadata": {
        "colab": {
          "base_uri": "https://localhost:8080/"
        },
        "id": "oGkoiQUnJuKY",
        "outputId": "1ba73e6d-7de2-4b7d-83d3-3e65f49f974e"
      },
      "source": [
        "caltech_dir = \"other_food\"\n",
        "categories = ['beans', 'pizzas', 'fried_chickens']\n",
        "nb_classes = len(categories)\n",
        "\n",
        "image_w = 64\n",
        "image_h = 64\n",
        "\n",
        "pixels = image_h * image_w * 3\n",
        "\n",
        "X = []\n",
        "y = []\n",
        "\n",
        "for idx, food in enumerate(categories):\n",
        "    \n",
        "    #one-hot 돌리기.\n",
        "    label = [0 for i in range(nb_classes)]\n",
        "    label[idx] = 1\n",
        "\n",
        "    image_dir = caltech_dir + \"/\" + food\n",
        "    files = glob.glob(image_dir+\"/*.jpg\")\n",
        "    print(food, \" 파일 길이 : \", len(files))\n",
        "    for i, f in enumerate(files):\n",
        "        img = Image.open(f)\n",
        "        img = img.convert(\"RGB\")\n",
        "        img = img.resize((image_w, image_h))\n",
        "        data = np.asarray(img)\n",
        "\n",
        "        X.append(data)\n",
        "        y.append(label)\n",
        "\n",
        "        if i % 700 == 0:\n",
        "            print(food, \" : \", f)"
      ],
      "execution_count": 8,
      "outputs": [
        {
          "output_type": "stream",
          "text": [
            "beans  파일 길이 :  977\n",
            "beans  :  other_food/beans/Img_025_0457.jpg\n",
            "beans  :  other_food/beans/Img_025_0839.jpg\n",
            "pizzas  파일 길이 :  944\n",
            "pizzas  :  other_food/pizzas/Img_027_0341.jpg\n"
          ],
          "name": "stdout"
        },
        {
          "output_type": "stream",
          "text": [
            "/usr/local/lib/python3.7/dist-packages/PIL/TiffImagePlugin.py:788: UserWarning: Corrupt EXIF data.  Expecting to read 12 bytes but only got 4. \n",
            "  warnings.warn(str(msg))\n",
            "/usr/local/lib/python3.7/dist-packages/PIL/Image.py:960: UserWarning: Palette images with Transparency expressed in bytes should be converted to RGBA images\n",
            "  \"Palette images with Transparency expressed in bytes should be \"\n"
          ],
          "name": "stderr"
        },
        {
          "output_type": "stream",
          "text": [
            "pizzas  :  other_food/pizzas/Img_027_0799.jpg\n",
            "fried_chickens  파일 길이 :  982\n",
            "fried_chickens  :  other_food/fried_chickens/Img_028_0861.jpg\n",
            "fried_chickens  :  other_food/fried_chickens/Img_028_0607.jpg\n"
          ],
          "name": "stdout"
        }
      ]
    },
    {
      "cell_type": "code",
      "metadata": {
        "id": "d29CxCTbKIfy"
      },
      "source": [
        "!mkdir numpy_data"
      ],
      "execution_count": 9,
      "outputs": []
    },
    {
      "cell_type": "code",
      "metadata": {
        "colab": {
          "base_uri": "https://localhost:8080/"
        },
        "id": "8j4ILhO8KIIw",
        "outputId": "b15b4b1c-117c-4be4-f56d-129114d550e8"
      },
      "source": [
        "X = np.array(X)\n",
        "y = np.array(y)\n",
        "#1 0 0 0 이면 airplanes\n",
        "#0 1 0 0 이면 buddha 이런식\n",
        "\n",
        "\n",
        "X_train, X_test, y_train, y_test = train_test_split(X, y)\n",
        "xy = (X_train, X_test, y_train, y_test)\n",
        "np.save(\"numpy_data/multi_image_data.npy\", xy)\n",
        "\n",
        "print(\"ok\", len(y))"
      ],
      "execution_count": 10,
      "outputs": [
        {
          "output_type": "stream",
          "text": [
            "ok 2903\n"
          ],
          "name": "stdout"
        },
        {
          "output_type": "stream",
          "text": [
            "/usr/local/lib/python3.7/dist-packages/numpy/core/_asarray.py:136: VisibleDeprecationWarning: Creating an ndarray from ragged nested sequences (which is a list-or-tuple of lists-or-tuples-or ndarrays with different lengths or shapes) is deprecated. If you meant to do this, you must specify 'dtype=object' when creating the ndarray\n",
            "  return array(a, dtype, copy=False, order=order, subok=True)\n"
          ],
          "name": "stderr"
        }
      ]
    },
    {
      "cell_type": "markdown",
      "metadata": {
        "id": "OgVY1w9MKXN-"
      },
      "source": [
        "## 모델 훈련"
      ]
    },
    {
      "cell_type": "markdown",
      "metadata": {
        "id": "7hwG9mRDKYyM"
      },
      "source": [
        "이제 numpy 데이터를 불러와 훈련을 시작한다."
      ]
    },
    {
      "cell_type": "code",
      "metadata": {
        "id": "X6MibNOGKfr-"
      },
      "source": [
        "import os, glob, numpy as np\n",
        "from keras.models import Sequential\n",
        "from keras.layers import Conv2D, MaxPooling2D, Dense, Flatten, Dropout\n",
        "from keras.callbacks import EarlyStopping, ModelCheckpoint\n",
        "import matplotlib.pyplot as plt\n",
        "import tensorflow as tf"
      ],
      "execution_count": 12,
      "outputs": []
    },
    {
      "cell_type": "code",
      "metadata": {
        "colab": {
          "base_uri": "https://localhost:8080/"
        },
        "id": "nssWsJb2KggD",
        "outputId": "8ae72224-1991-4e68-e831-4489a13aceb6"
      },
      "source": [
        "config = tf.compat.v1.ConfigProto()\n",
        "config.gpu_options.allow_growth = True\n",
        "session = tf.compat.v1.Session(config=config)\n",
        "\n",
        "X_train, X_test, y_train, y_test = np.load('numpy_data/multi_image_data.npy', allow_pickle=True)\n",
        "print(X_train.shape)\n",
        "print(X_train.shape[0])"
      ],
      "execution_count": 16,
      "outputs": [
        {
          "output_type": "stream",
          "text": [
            "(2177, 64, 64, 3)\n",
            "2177\n"
          ],
          "name": "stdout"
        }
      ]
    },
    {
      "cell_type": "code",
      "metadata": {
        "id": "hYBL7CwTK8vI"
      },
      "source": [
        "categories = ['beans', 'pizzas', 'fried_chickens']\n",
        "nb_classes = len(categories)\n",
        "\n",
        "#일반화\n",
        "X_train = X_train.astype(float) / 255\n",
        "X_test = X_test.astype(float) / 255"
      ],
      "execution_count": 43,
      "outputs": []
    },
    {
      "cell_type": "code",
      "metadata": {
        "colab": {
          "base_uri": "https://localhost:8080/"
        },
        "id": "uZLjS5YCLEa4",
        "outputId": "6d404846-3ac6-4d97-ff16-edc167a60e9e"
      },
      "source": [
        "!mkdir model"
      ],
      "execution_count": 44,
      "outputs": [
        {
          "output_type": "stream",
          "text": [
            "mkdir: cannot create directory ‘model’: File exists\n"
          ],
          "name": "stdout"
        }
      ]
    },
    {
      "cell_type": "code",
      "metadata": {
        "id": "rPq6cAkCK_uJ"
      },
      "source": [
        "model = Sequential()\n",
        "model.add(Conv2D(32, (3,3), padding=\"same\", input_shape=X_train.shape[1:], activation='relu'))\n",
        "model.add(MaxPooling2D(pool_size=(2,2)))\n",
        "model.add(Dropout(0.25))\n",
        "    \n",
        "model.add(Conv2D(64, (3,3), padding=\"same\", activation='relu'))\n",
        "model.add(MaxPooling2D(pool_size=(2,2)))\n",
        "model.add(Dropout(0.25))\n",
        "    \n",
        "model.add(Flatten())\n",
        "model.add(Dense(256, activation='relu'))\n",
        "model.add(Dropout(0.5))\n",
        "model.add(Dense(nb_classes, activation='softmax'))\n",
        "model.compile(loss='categorical_crossentropy', optimizer='adam', metrics=['accuracy'])\n",
        "model_dir = 'model'\n",
        "    \n",
        "if not os.path.exists(model_dir):\n",
        "    os.mkdir(model_dir)\n",
        "    \n",
        "model_path = model_dir + '/multi_img_classification.model'\n",
        "checkpoint = ModelCheckpoint(filepath=model_path , monitor='val_loss', verbose=1, save_best_only=True)\n",
        "early_stopping = EarlyStopping(monitor='val_loss', patience=6)"
      ],
      "execution_count": 45,
      "outputs": []
    },
    {
      "cell_type": "code",
      "metadata": {
        "colab": {
          "base_uri": "https://localhost:8080/"
        },
        "id": "JopavN_PLKRO",
        "outputId": "afd1b091-1720-40ba-dce5-10fc5df88cf3"
      },
      "source": [
        "model.summary()"
      ],
      "execution_count": 46,
      "outputs": [
        {
          "output_type": "stream",
          "text": [
            "Model: \"sequential_6\"\n",
            "_________________________________________________________________\n",
            "Layer (type)                 Output Shape              Param #   \n",
            "=================================================================\n",
            "conv2d_12 (Conv2D)           (None, 64, 64, 32)        896       \n",
            "_________________________________________________________________\n",
            "max_pooling2d_12 (MaxPooling (None, 32, 32, 32)        0         \n",
            "_________________________________________________________________\n",
            "dropout_18 (Dropout)         (None, 32, 32, 32)        0         \n",
            "_________________________________________________________________\n",
            "conv2d_13 (Conv2D)           (None, 32, 32, 64)        18496     \n",
            "_________________________________________________________________\n",
            "max_pooling2d_13 (MaxPooling (None, 16, 16, 64)        0         \n",
            "_________________________________________________________________\n",
            "dropout_19 (Dropout)         (None, 16, 16, 64)        0         \n",
            "_________________________________________________________________\n",
            "flatten_6 (Flatten)          (None, 16384)             0         \n",
            "_________________________________________________________________\n",
            "dense_12 (Dense)             (None, 256)               4194560   \n",
            "_________________________________________________________________\n",
            "dropout_20 (Dropout)         (None, 256)               0         \n",
            "_________________________________________________________________\n",
            "dense_13 (Dense)             (None, 3)                 771       \n",
            "=================================================================\n",
            "Total params: 4,214,723\n",
            "Trainable params: 4,214,723\n",
            "Non-trainable params: 0\n",
            "_________________________________________________________________\n"
          ],
          "name": "stdout"
        }
      ]
    },
    {
      "cell_type": "code",
      "metadata": {
        "colab": {
          "base_uri": "https://localhost:8080/"
        },
        "id": "tyKNyc_WLM4f",
        "outputId": "9dbd0488-99bf-4a92-d752-7f6a2dfba1bf"
      },
      "source": [
        "#데이터셋이 적어서 validation을 그냥 test 데이터로 했습니다. \n",
        "#데이터셋이 충분하시면 이렇게 하시지 마시고 validation_split=0.2 이렇게 하셔서 테스트 셋으로 나누시길 권장합니다.\n",
        "# history = model.fit(X_train, y_train, batch_size=32, epochs=50, validation_data=(X_test, y_test), callbacks=[checkpoint, early_stopping])\n",
        "history = model.fit(X_train, y_train, batch_size=32, epochs=50, validation_split=0.2, callbacks=[checkpoint, early_stopping])"
      ],
      "execution_count": 47,
      "outputs": [
        {
          "output_type": "stream",
          "text": [
            "Epoch 1/50\n",
            "55/55 [==============================] - 14s 241ms/step - loss: 1.0980 - accuracy: 0.3511 - val_loss: 1.0485 - val_accuracy: 0.6193\n",
            "\n",
            "Epoch 00001: val_loss improved from inf to 1.04849, saving model to model/multi_img_classification.model\n",
            "INFO:tensorflow:Assets written to: model/multi_img_classification.model/assets\n",
            "Epoch 2/50\n",
            "55/55 [==============================] - 13s 237ms/step - loss: 0.9902 - accuracy: 0.5045 - val_loss: 0.7481 - val_accuracy: 0.6560\n",
            "\n",
            "Epoch 00002: val_loss improved from 1.04849 to 0.74813, saving model to model/multi_img_classification.model\n",
            "INFO:tensorflow:Assets written to: model/multi_img_classification.model/assets\n",
            "Epoch 3/50\n",
            "55/55 [==============================] - 13s 235ms/step - loss: 0.7350 - accuracy: 0.6416 - val_loss: 0.6287 - val_accuracy: 0.7500\n",
            "\n",
            "Epoch 00003: val_loss improved from 0.74813 to 0.62869, saving model to model/multi_img_classification.model\n",
            "INFO:tensorflow:Assets written to: model/multi_img_classification.model/assets\n",
            "Epoch 4/50\n",
            "55/55 [==============================] - 15s 266ms/step - loss: 0.6860 - accuracy: 0.6871 - val_loss: 0.5810 - val_accuracy: 0.7064\n",
            "\n",
            "Epoch 00004: val_loss improved from 0.62869 to 0.58096, saving model to model/multi_img_classification.model\n",
            "INFO:tensorflow:Assets written to: model/multi_img_classification.model/assets\n",
            "Epoch 5/50\n",
            "55/55 [==============================] - 15s 262ms/step - loss: 0.6368 - accuracy: 0.6996 - val_loss: 0.5873 - val_accuracy: 0.7339\n",
            "\n",
            "Epoch 00005: val_loss did not improve from 0.58096\n",
            "Epoch 6/50\n",
            "55/55 [==============================] - 13s 237ms/step - loss: 0.5998 - accuracy: 0.7078 - val_loss: 0.5428 - val_accuracy: 0.7431\n",
            "\n",
            "Epoch 00006: val_loss improved from 0.58096 to 0.54280, saving model to model/multi_img_classification.model\n",
            "INFO:tensorflow:Assets written to: model/multi_img_classification.model/assets\n",
            "Epoch 7/50\n",
            "55/55 [==============================] - 13s 237ms/step - loss: 0.5692 - accuracy: 0.7306 - val_loss: 0.5433 - val_accuracy: 0.7339\n",
            "\n",
            "Epoch 00007: val_loss did not improve from 0.54280\n",
            "Epoch 8/50\n",
            "55/55 [==============================] - 13s 237ms/step - loss: 0.5799 - accuracy: 0.7157 - val_loss: 0.5186 - val_accuracy: 0.7546\n",
            "\n",
            "Epoch 00008: val_loss improved from 0.54280 to 0.51858, saving model to model/multi_img_classification.model\n",
            "INFO:tensorflow:Assets written to: model/multi_img_classification.model/assets\n",
            "Epoch 9/50\n",
            "55/55 [==============================] - 13s 237ms/step - loss: 0.5902 - accuracy: 0.7069 - val_loss: 0.5272 - val_accuracy: 0.7569\n",
            "\n",
            "Epoch 00009: val_loss did not improve from 0.51858\n",
            "Epoch 10/50\n",
            "55/55 [==============================] - 13s 238ms/step - loss: 0.5676 - accuracy: 0.7390 - val_loss: 0.4926 - val_accuracy: 0.7821\n",
            "\n",
            "Epoch 00010: val_loss improved from 0.51858 to 0.49261, saving model to model/multi_img_classification.model\n",
            "INFO:tensorflow:Assets written to: model/multi_img_classification.model/assets\n",
            "Epoch 11/50\n",
            "55/55 [==============================] - 13s 239ms/step - loss: 0.5149 - accuracy: 0.7633 - val_loss: 0.4895 - val_accuracy: 0.7959\n",
            "\n",
            "Epoch 00011: val_loss improved from 0.49261 to 0.48951, saving model to model/multi_img_classification.model\n",
            "INFO:tensorflow:Assets written to: model/multi_img_classification.model/assets\n",
            "Epoch 12/50\n",
            "55/55 [==============================] - 13s 238ms/step - loss: 0.4906 - accuracy: 0.7802 - val_loss: 0.4694 - val_accuracy: 0.8073\n",
            "\n",
            "Epoch 00012: val_loss improved from 0.48951 to 0.46941, saving model to model/multi_img_classification.model\n",
            "INFO:tensorflow:Assets written to: model/multi_img_classification.model/assets\n",
            "Epoch 13/50\n",
            "55/55 [==============================] - 13s 239ms/step - loss: 0.4519 - accuracy: 0.7887 - val_loss: 0.4955 - val_accuracy: 0.7936\n",
            "\n",
            "Epoch 00013: val_loss did not improve from 0.46941\n",
            "Epoch 14/50\n",
            "55/55 [==============================] - 13s 238ms/step - loss: 0.4671 - accuracy: 0.7778 - val_loss: 0.4494 - val_accuracy: 0.8005\n",
            "\n",
            "Epoch 00014: val_loss improved from 0.46941 to 0.44936, saving model to model/multi_img_classification.model\n",
            "INFO:tensorflow:Assets written to: model/multi_img_classification.model/assets\n",
            "Epoch 15/50\n",
            "55/55 [==============================] - 13s 238ms/step - loss: 0.4812 - accuracy: 0.7871 - val_loss: 0.4474 - val_accuracy: 0.8050\n",
            "\n",
            "Epoch 00015: val_loss improved from 0.44936 to 0.44744, saving model to model/multi_img_classification.model\n",
            "INFO:tensorflow:Assets written to: model/multi_img_classification.model/assets\n",
            "Epoch 16/50\n",
            "55/55 [==============================] - 13s 237ms/step - loss: 0.4381 - accuracy: 0.7918 - val_loss: 0.4326 - val_accuracy: 0.8257\n",
            "\n",
            "Epoch 00016: val_loss improved from 0.44744 to 0.43258, saving model to model/multi_img_classification.model\n",
            "INFO:tensorflow:Assets written to: model/multi_img_classification.model/assets\n",
            "Epoch 17/50\n",
            "55/55 [==============================] - 13s 236ms/step - loss: 0.3931 - accuracy: 0.8088 - val_loss: 0.4298 - val_accuracy: 0.8257\n",
            "\n",
            "Epoch 00017: val_loss improved from 0.43258 to 0.42978, saving model to model/multi_img_classification.model\n",
            "INFO:tensorflow:Assets written to: model/multi_img_classification.model/assets\n",
            "Epoch 18/50\n",
            "55/55 [==============================] - 13s 235ms/step - loss: 0.4053 - accuracy: 0.8081 - val_loss: 0.4203 - val_accuracy: 0.8303\n",
            "\n",
            "Epoch 00018: val_loss improved from 0.42978 to 0.42034, saving model to model/multi_img_classification.model\n",
            "INFO:tensorflow:Assets written to: model/multi_img_classification.model/assets\n",
            "Epoch 19/50\n",
            "55/55 [==============================] - 13s 236ms/step - loss: 0.4029 - accuracy: 0.8079 - val_loss: 0.4162 - val_accuracy: 0.8394\n",
            "\n",
            "Epoch 00019: val_loss improved from 0.42034 to 0.41619, saving model to model/multi_img_classification.model\n",
            "INFO:tensorflow:Assets written to: model/multi_img_classification.model/assets\n",
            "Epoch 20/50\n",
            "55/55 [==============================] - 13s 237ms/step - loss: 0.3835 - accuracy: 0.8366 - val_loss: 0.5174 - val_accuracy: 0.8165\n",
            "\n",
            "Epoch 00020: val_loss did not improve from 0.41619\n",
            "Epoch 21/50\n",
            "55/55 [==============================] - 13s 237ms/step - loss: 0.4391 - accuracy: 0.8188 - val_loss: 0.3917 - val_accuracy: 0.8372\n",
            "\n",
            "Epoch 00021: val_loss improved from 0.41619 to 0.39169, saving model to model/multi_img_classification.model\n",
            "INFO:tensorflow:Assets written to: model/multi_img_classification.model/assets\n",
            "Epoch 22/50\n",
            "55/55 [==============================] - 13s 239ms/step - loss: 0.3471 - accuracy: 0.8337 - val_loss: 0.3918 - val_accuracy: 0.8463\n",
            "\n",
            "Epoch 00022: val_loss did not improve from 0.39169\n",
            "Epoch 23/50\n",
            "55/55 [==============================] - 13s 238ms/step - loss: 0.3345 - accuracy: 0.8558 - val_loss: 0.4442 - val_accuracy: 0.8234\n",
            "\n",
            "Epoch 00023: val_loss did not improve from 0.39169\n",
            "Epoch 24/50\n",
            "55/55 [==============================] - 13s 239ms/step - loss: 0.4175 - accuracy: 0.8168 - val_loss: 0.3798 - val_accuracy: 0.8417\n",
            "\n",
            "Epoch 00024: val_loss improved from 0.39169 to 0.37983, saving model to model/multi_img_classification.model\n",
            "INFO:tensorflow:Assets written to: model/multi_img_classification.model/assets\n",
            "Epoch 25/50\n",
            "55/55 [==============================] - 13s 239ms/step - loss: 0.3642 - accuracy: 0.8393 - val_loss: 0.3835 - val_accuracy: 0.8326\n",
            "\n",
            "Epoch 00025: val_loss did not improve from 0.37983\n",
            "Epoch 26/50\n",
            "55/55 [==============================] - 13s 236ms/step - loss: 0.3218 - accuracy: 0.8578 - val_loss: 0.3921 - val_accuracy: 0.8417\n",
            "\n",
            "Epoch 00026: val_loss did not improve from 0.37983\n",
            "Epoch 27/50\n",
            "55/55 [==============================] - 13s 235ms/step - loss: 0.3245 - accuracy: 0.8604 - val_loss: 0.3974 - val_accuracy: 0.8394\n",
            "\n",
            "Epoch 00027: val_loss did not improve from 0.37983\n",
            "Epoch 28/50\n",
            "55/55 [==============================] - 13s 235ms/step - loss: 0.3052 - accuracy: 0.8776 - val_loss: 0.4069 - val_accuracy: 0.8372\n",
            "\n",
            "Epoch 00028: val_loss did not improve from 0.37983\n",
            "Epoch 29/50\n",
            "55/55 [==============================] - 13s 236ms/step - loss: 0.3163 - accuracy: 0.8681 - val_loss: 0.4076 - val_accuracy: 0.8486\n",
            "\n",
            "Epoch 00029: val_loss did not improve from 0.37983\n",
            "Epoch 30/50\n",
            "55/55 [==============================] - 13s 237ms/step - loss: 0.3091 - accuracy: 0.8652 - val_loss: 0.3673 - val_accuracy: 0.8440\n",
            "\n",
            "Epoch 00030: val_loss improved from 0.37983 to 0.36726, saving model to model/multi_img_classification.model\n",
            "INFO:tensorflow:Assets written to: model/multi_img_classification.model/assets\n",
            "Epoch 31/50\n",
            "55/55 [==============================] - 13s 237ms/step - loss: 0.3346 - accuracy: 0.8534 - val_loss: 0.3686 - val_accuracy: 0.8486\n",
            "\n",
            "Epoch 00031: val_loss did not improve from 0.36726\n",
            "Epoch 32/50\n",
            "55/55 [==============================] - 13s 236ms/step - loss: 0.2997 - accuracy: 0.8661 - val_loss: 0.3722 - val_accuracy: 0.8463\n",
            "\n",
            "Epoch 00032: val_loss did not improve from 0.36726\n",
            "Epoch 33/50\n",
            "55/55 [==============================] - 13s 236ms/step - loss: 0.3004 - accuracy: 0.8854 - val_loss: 0.3629 - val_accuracy: 0.8532\n",
            "\n",
            "Epoch 00033: val_loss improved from 0.36726 to 0.36292, saving model to model/multi_img_classification.model\n",
            "INFO:tensorflow:Assets written to: model/multi_img_classification.model/assets\n",
            "Epoch 34/50\n",
            "55/55 [==============================] - 13s 238ms/step - loss: 0.2883 - accuracy: 0.8781 - val_loss: 0.3877 - val_accuracy: 0.8509\n",
            "\n",
            "Epoch 00034: val_loss did not improve from 0.36292\n",
            "Epoch 35/50\n",
            "55/55 [==============================] - 13s 236ms/step - loss: 0.2784 - accuracy: 0.8928 - val_loss: 0.3673 - val_accuracy: 0.8532\n",
            "\n",
            "Epoch 00035: val_loss did not improve from 0.36292\n",
            "Epoch 36/50\n",
            "55/55 [==============================] - 13s 237ms/step - loss: 0.2967 - accuracy: 0.8805 - val_loss: 0.3666 - val_accuracy: 0.8532\n",
            "\n",
            "Epoch 00036: val_loss did not improve from 0.36292\n",
            "Epoch 37/50\n",
            "55/55 [==============================] - 13s 238ms/step - loss: 0.2806 - accuracy: 0.8824 - val_loss: 0.4075 - val_accuracy: 0.8234\n",
            "\n",
            "Epoch 00037: val_loss did not improve from 0.36292\n",
            "Epoch 38/50\n",
            "55/55 [==============================] - 13s 237ms/step - loss: 0.2861 - accuracy: 0.8789 - val_loss: 0.4120 - val_accuracy: 0.8440\n",
            "\n",
            "Epoch 00038: val_loss did not improve from 0.36292\n",
            "Epoch 39/50\n",
            "55/55 [==============================] - 13s 237ms/step - loss: 0.2852 - accuracy: 0.8876 - val_loss: 0.3664 - val_accuracy: 0.8647\n",
            "\n",
            "Epoch 00039: val_loss did not improve from 0.36292\n"
          ],
          "name": "stdout"
        }
      ]
    },
    {
      "cell_type": "code",
      "metadata": {
        "colab": {
          "base_uri": "https://localhost:8080/"
        },
        "id": "qg3PRGM-LR6d",
        "outputId": "f7d86e38-6ed8-4589-a33e-d9e4aea0c33f"
      },
      "source": [
        "print(\"정확도 : %.4f\" % (model.evaluate(X_test, y_test)[1]))"
      ],
      "execution_count": 49,
      "outputs": [
        {
          "output_type": "stream",
          "text": [
            "23/23 [==============================] - 1s 60ms/step - loss: 0.3751 - accuracy: 0.8650\n",
            "정확도 : 0.8650\n"
          ],
          "name": "stdout"
        }
      ]
    },
    {
      "cell_type": "code",
      "metadata": {
        "colab": {
          "base_uri": "https://localhost:8080/",
          "height": 279
        },
        "id": "Hc1x4uGyLT9C",
        "outputId": "44c4d64e-07e0-4e66-f4e5-edb5b7fa1cda"
      },
      "source": [
        "y_vloss = history.history['val_loss']\n",
        "y_loss = history.history['loss']\n",
        "\n",
        "x_len = np.arange(len(y_loss))\n",
        "\n",
        "plt.plot(x_len, y_vloss, marker='.', c='red', label='val_set_loss')\n",
        "plt.plot(x_len, y_loss, marker='.', c='blue', label='train_set_oss')\n",
        "plt.legend()\n",
        "plt.xlabel('epochs')\n",
        "plt.ylabel('loss')\n",
        "plt.grid()\n",
        "plt.show()"
      ],
      "execution_count": 50,
      "outputs": [
        {
          "output_type": "display_data",
          "data": {
            "image/png": "[encoded data removed]",
            "text/plain": [
              "<Figure size 432x288 with 1 Axes>"
            ]
          },
          "metadata": {
            "tags": [],
            "needs_background": "light"
          }
        }
      ]
    },
    {
      "cell_type": "markdown",
      "metadata": {
        "id": "8YpIs24ZK-36"
      },
      "source": [
        "## 모델 정확성 검증"
      ]
    },
    {
      "cell_type": "code",
      "metadata": {
        "id": "6eSgQKAHMZrF"
      },
      "source": [
        "from PIL import Image\n",
        "import os, glob, numpy as np\n",
        "from keras.models import load_model"
      ],
      "execution_count": 51,
      "outputs": []
    },
    {
      "cell_type": "code",
      "metadata": {
        "colab": {
          "base_uri": "https://localhost:8080/"
        },
        "id": "Cfi9HxyKMfzN",
        "outputId": "292786bc-b00d-4ac1-a9a3-9c08b53e1e2c"
      },
      "source": [
        "caltech_dir = \"img_test\"\n",
        "image_w = 64\n",
        "image_h = 64\n",
        "\n",
        "pixels = image_h * image_w * 3\n",
        "\n",
        "X = []\n",
        "filenames = []\n",
        "files = glob.glob(caltech_dir+\"/*.*\")\n",
        "for i, f in enumerate(files):\n",
        "    img = Image.open(f)\n",
        "    img = img.convert(\"RGB\")\n",
        "    img = img.resize((image_w, image_h))\n",
        "    data = np.asarray(img)\n",
        "    filenames.append(f)\n",
        "    X.append(data)\n",
        "\n",
        "X = np.array(X)\n",
        "model = load_model('model/multi_img_classification.model')\n",
        "\n",
        "prediction = model.predict(X)\n",
        "np.set_printoptions(formatter={'float': lambda x: \"{0:0.3f}\".format(x)})\n",
        "cnt = 0\n",
        "\n",
        "#이 비교는 그냥 파일들이 있으면 해당 파일과 비교. 카테고리와 함께 비교해서 진행하는 것은 _4 파일.\n",
        "for i in prediction:\n",
        "    pre_ans = i.argmax()  # 예측 레이블\n",
        "    print(i)\n",
        "    print(pre_ans)\n",
        "    pre_ans_str = ''\n",
        "    if pre_ans == 0: pre_ans_str = \"콩자반\"\n",
        "    elif pre_ans == 1: pre_ans_str = \"피자\"\n",
        "    else: pre_ans_str = \"후라이드치킨\"\n",
        "    if i[0] >= 0.8 : print(\"해당 \"+filenames[cnt].split(\"/\")[1]+\"이미지는 \"+pre_ans_str+\"로 추정됩니다.\")\n",
        "    if i[1] >= 0.8: print(\"해당 \"+filenames[cnt].split(\"/\")[1]+\"이미지는 \"+pre_ans_str+\"으로 추정됩니다.\")\n",
        "    if i[2] >= 0.8: print(\"해당 \"+filenames[cnt].split(\"/\")[1]+\"이미지는 \"+pre_ans_str+\"로 추정됩니다.\")\n",
        "    cnt += 1\n",
        "    # print(i.argmax()) #얘가 레이블 [1. 0. 0.] 이런식으로 되어 있는 것을 숫자로 바꿔주는 것.\n",
        "    # 즉 얘랑, 나중에 카테고리 데이터 불러와서 카테고리랑 비교를 해서 같으면 맞는거고, 아니면 틀린거로 취급하면 된다.\n",
        "    # 이걸 한 것은 _4.py에."
      ],
      "execution_count": 52,
      "outputs": [
        {
          "output_type": "stream",
          "text": [
            "[1.000 0.000 0.000]\n",
            "0\n",
            "해당 Img_027_0083.jpg이미지는 콩자반로 추정됩니다.\n",
            "[1.000 0.000 0.000]\n",
            "0\n",
            "해당 Img_027_0092.jpg이미지는 콩자반로 추정됩니다.\n",
            "[1.000 0.000 0.000]\n",
            "0\n",
            "해당 Img_028_0085.jpg이미지는 콩자반로 추정됩니다.\n",
            "[1.000 0.000 0.000]\n",
            "0\n",
            "해당 Img_027_0089.jpg이미지는 콩자반로 추정됩니다.\n",
            "[1.000 0.000 0.000]\n",
            "0\n",
            "해당 Img_025_0000.jpg이미지는 콩자반로 추정됩니다.\n",
            "[1.000 0.000 0.000]\n",
            "0\n",
            "해당 Img_028_0076.jpg이미지는 콩자반로 추정됩니다.\n",
            "[1.000 0.000 0.000]\n",
            "0\n",
            "해당 Img_025_0011.jpg이미지는 콩자반로 추정됩니다.\n",
            "[1.000 0.000 0.000]\n",
            "0\n",
            "해당 Img_028_0081.jpg이미지는 콩자반로 추정됩니다.\n",
            "[1.000 0.000 0.000]\n",
            "0\n",
            "해당 Img_025_0017.png이미지는 콩자반로 추정됩니다.\n"
          ],
          "name": "stdout"
        }
      ]
    }
  ]
}