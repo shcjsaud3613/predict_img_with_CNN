{
  "nbformat": 4,
  "nbformat_minor": 0,
  "metadata": {
    "colab": {
      "name": "predict_multi_img_with_CNN.ipynb",
      "provenance": [],
      "collapsed_sections": [],
      "authorship_tag": "ABX9TyPMXc+QZVAY+lOyY0AuUv64",
      "include_colab_link": true
    },
    "kernelspec": {
      "name": "python3",
      "display_name": "Python 3"
    },
    "language_info": {
      "name": "python"
    },
    "accelerator": "GPU"
  },
  "cells": [
    {
      "cell_type": "markdown",
      "metadata": {
        "id": "view-in-github",
        "colab_type": "text"
      },
      "source": [
        "<a href=\"https://colab.research.google.com/github/shcjsaud3613/predict_img_with_CNN/blob/main/predict_multi_img_with_CNN.ipynb\" target=\"_parent\"><img src=\"https://colab.research.google.com/assets/colab-badge.svg\" alt=\"Open In Colab\"/></a>"
      ]
    },
    {
      "cell_type": "markdown",
      "metadata": {
        "id": "2x7MQixkIMKM"
      },
      "source": [
        "# CNN을 통한 다중 이미지 학습"
      ]
    },
    {
      "cell_type": "markdown",
      "metadata": {
        "id": "7QQOaOx2ISqq"
      },
      "source": [
        "## Google Colab 링크\n",
        "\n",
        "https://colab.research.google.com/drive/1GcJCFBzVJS-zfe-3XAdXauxXtVHPsdmQ#scrollTo=7QQOaOx2ISqq"
      ]
    },
    {
      "cell_type": "markdown",
      "metadata": {
        "id": "hoatHnYKI8pK"
      },
      "source": [
        "**학습 데이터세트는 AI Hub에서 신청하여 받았고, 저작자는 한국지능정보사회진흥원이다.**"
      ]
    },
    {
      "cell_type": "markdown",
      "metadata": {
        "id": "iEmmauQdIX_g"
      },
      "source": [
        "## 참고자료"
      ]
    },
    {
      "cell_type": "markdown",
      "metadata": {
        "id": "0tL3u_nwIclv"
      },
      "source": [
        "https://lsjsj92.tistory.com/387"
      ]
    },
    {
      "cell_type": "code",
      "metadata": {
        "id": "GknSALBMJB9e"
      },
      "source": [
        "# Google Colab 재시작\n",
        "!kill -9 -1"
      ],
      "execution_count": null,
      "outputs": []
    },
    {
      "cell_type": "markdown",
      "metadata": {
        "id": "B0xozfumIjB8"
      },
      "source": [
        "## 데이터세트 다운로드"
      ]
    },
    {
      "cell_type": "markdown",
      "metadata": {
        "id": "HGtfA_LdIyde"
      },
      "source": [
        "구글 드라이브에 업로드한 zip 파일을 File ID로 다운받고 압축을 해제한다."
      ]
    },
    {
      "cell_type": "code",
      "metadata": {
        "colab": {
          "base_uri": "https://localhost:8080/"
        },
        "id": "7rCuKfnCIm7A",
        "outputId": "b93b8b28-174c-4409-e739-945342f9ae6f"
      },
      "source": [
        "# !gdown --id 1AeNCnN8nOQI2q3p7kpeht2y6Aa95eHmT --output other_food.zip\n",
        "!gdown --id 14vWvDRXxyCbtbh8-fCPfYGMbBC53b_A0 --output other_food.zip"
      ],
      "execution_count": 1,
      "outputs": [
        {
          "output_type": "stream",
          "text": [
            "Downloading...\n",
            "From: https://drive.google.com/uc?id=14vWvDRXxyCbtbh8-fCPfYGMbBC53b_A0\n",
            "To: /content/other_food.zip\n",
            "348MB [00:04, 78.6MB/s]\n"
          ],
          "name": "stdout"
        }
      ]
    },
    {
      "cell_type": "code",
      "metadata": {
        "colab": {
          "base_uri": "https://localhost:8080/"
        },
        "id": "a2QPAQNnL6-b",
        "outputId": "2b04a021-5436-4ce0-a955-eb1e60717e27"
      },
      "source": [
        "!gdown --id 12cWI3H7aDypQhBIlhZh0_azL_G7k4ujS --output img_test.zip"
      ],
      "execution_count": 2,
      "outputs": [
        {
          "output_type": "stream",
          "text": [
            "Downloading...\n",
            "From: https://drive.google.com/uc?id=12cWI3H7aDypQhBIlhZh0_azL_G7k4ujS\n",
            "To: /content/img_test.zip\n",
            "\r  0% 0.00/1.90M [00:00<?, ?B/s]\r100% 1.90M/1.90M [00:00<00:00, 30.1MB/s]\n"
          ],
          "name": "stdout"
        }
      ]
    },
    {
      "cell_type": "markdown",
      "metadata": {
        "id": "quvn8e64MCL4"
      },
      "source": [
        "`other_food`는 훈련 데이터, `img_test`는 검증 데이터다."
      ]
    },
    {
      "cell_type": "code",
      "metadata": {
        "id": "QHD_iCiZL6CH"
      },
      "source": [
        "!unzip other_food.zip"
      ],
      "execution_count": null,
      "outputs": []
    },
    {
      "cell_type": "code",
      "metadata": {
        "id": "6TJppBKVIqqE"
      },
      "source": [
        "!unzip img_test.zip"
      ],
      "execution_count": null,
      "outputs": []
    },
    {
      "cell_type": "markdown",
      "metadata": {
        "id": "nC8WERctIpqu"
      },
      "source": [
        "경로를 지정하고 데이터세트 이미지 개수를 확인한다."
      ]
    },
    {
      "cell_type": "code",
      "metadata": {
        "id": "ees9EGzDIy_w"
      },
      "source": [
        "import pathlib\n",
        "img_dir = 'other_food'\n",
        "data_dir = pathlib.Path(img_dir)"
      ],
      "execution_count": 5,
      "outputs": []
    },
    {
      "cell_type": "code",
      "metadata": {
        "colab": {
          "base_uri": "https://localhost:8080/"
        },
        "id": "VkEgbRQnI0mc",
        "outputId": "424bf19b-7cc5-4636-f17a-6585ad9c12bb"
      },
      "source": [
        "# image_count = len(list(data_dir.glob('*/*.jpg')))\n",
        "image_list = list(data_dir.glob('*/*.jpg'))\n",
        "image_list.extend(list(data_dir.glob('*/*.jpeg')))\n",
        "image_list.extend(list(data_dir.glob('*/*.png')))\n",
        "image_list.extend(list(data_dir.glob('*/*.gif')))\n",
        "image_count = len(image_list)\n",
        "print(image_count)"
      ],
      "execution_count": 6,
      "outputs": [
        {
          "output_type": "stream",
          "text": [
            "2977\n"
          ],
          "name": "stdout"
        }
      ]
    },
    {
      "cell_type": "markdown",
      "metadata": {
        "id": "vfJQFQ1zJVnc"
      },
      "source": [
        "## 멀티라벨 분류"
      ]
    },
    {
      "cell_type": "markdown",
      "metadata": {
        "id": "UBqWWHTYKwVF"
      },
      "source": [
        "데이터세트를 `콩자반`, `피자`, `후라이드치킨` 3가지로 분류한다."
      ]
    },
    {
      "cell_type": "code",
      "metadata": {
        "id": "FwQwSuKDJtkp"
      },
      "source": [
        "from PIL import Image\n",
        "import os, glob, numpy as np\n",
        "from sklearn.model_selection import train_test_split"
      ],
      "execution_count": 7,
      "outputs": []
    },
    {
      "cell_type": "markdown",
      "metadata": {
        "id": "t01Mc4xPgK8i"
      },
      "source": [
        "하위 폴더 경로를 확인한다."
      ]
    },
    {
      "cell_type": "code",
      "metadata": {
        "colab": {
          "base_uri": "https://localhost:8080/"
        },
        "id": "CMLASO7kfd56",
        "outputId": "7f504b76-2cef-47ec-e162-bfdd2fcac039"
      },
      "source": [
        "test_for_categories_list = glob.glob(\"other_food/*/\")\n",
        "print(test_for_categories_list)"
      ],
      "execution_count": 8,
      "outputs": [
        {
          "output_type": "stream",
          "text": [
            "['other_food/후라이드치킨/', 'other_food/피자/', 'other_food/콩자반/']\n"
          ],
          "name": "stdout"
        }
      ]
    },
    {
      "cell_type": "markdown",
      "metadata": {
        "id": "ZEpj6bXM2wHc"
      },
      "source": [
        "폴더 경로에서 음식 이름을 추출하여 카테고리 배열로 만든다."
      ]
    },
    {
      "cell_type": "code",
      "metadata": {
        "colab": {
          "base_uri": "https://localhost:8080/"
        },
        "id": "Edfp1t9x28Pu",
        "outputId": "ddb2696e-c6a6-4e7c-a454-ee561e1fd500"
      },
      "source": [
        "categories = []\n",
        "for food_dir in test_for_categories_list:\n",
        "    food = food_dir[11:-1]\n",
        "    categories.append(food)\n",
        "\n",
        "print(categories)"
      ],
      "execution_count": 9,
      "outputs": [
        {
          "output_type": "stream",
          "text": [
            "['후라이드치킨', '피자', '콩자반']\n"
          ],
          "name": "stdout"
        }
      ]
    },
    {
      "cell_type": "code",
      "metadata": {
        "colab": {
          "base_uri": "https://localhost:8080/"
        },
        "id": "F7EDawBloXHF",
        "outputId": "72e133a4-3fc4-4c21-aee6-42b3e69b7efe"
      },
      "source": [
        "# test for making categoires with sub folder name\n",
        "caltech_dir = \"other_food\"\n",
        "nb_classes = len(test_for_categories_list)\n",
        "\n",
        "image_w = 64\n",
        "image_h = 64\n",
        "\n",
        "pixels = image_h * image_w * 3\n",
        "\n",
        "X = []\n",
        "y = []\n",
        "\n",
        "for idx, food_dir in enumerate(test_for_categories_list):\n",
        "    label = [0 for i in range(nb_classes)]\n",
        "    label[idx] = 1\n",
        "\n",
        "    food = food_dir[11:-1]\n",
        "    print(food)\n",
        "\n",
        "    image_dir = caltech_dir + \"/\" + food\n",
        "    files = glob.glob(image_dir+\"/*.jpg\")\n",
        "    files.extend(glob.glob(image_dir+'/*.jpeg'))\n",
        "    files.extend(glob.glob(image_dir+'/*.png'))\n",
        "    files.extend(glob.glob(image_dir+'/*.gif'))\n",
        "    print(food, \" 파일 길이 : \", len(files))\n",
        "    for i, f in enumerate(files):\n",
        "        img = Image.open(f)\n",
        "        img = img.convert(\"RGB\")\n",
        "        img = img.resize((image_w, image_h))\n",
        "        data = np.asarray(img)\n",
        "\n",
        "        X.append(data)\n",
        "        y.append(label)\n",
        "\n",
        "        if i % 700 == 0:\n",
        "            print(food, \" : \", f)"
      ],
      "execution_count": 9,
      "outputs": [
        {
          "output_type": "stream",
          "text": [
            "후라이드치킨\n",
            "후라이드치킨  파일 길이 :  991\n",
            "후라이드치킨  :  other_food/후라이드치킨/Img_028_0790.jpg\n",
            "후라이드치킨  :  other_food/후라이드치킨/Img_028_0691.jpg\n"
          ],
          "name": "stdout"
        },
        {
          "output_type": "stream",
          "text": [
            "/usr/local/lib/python3.7/dist-packages/PIL/Image.py:960: UserWarning: Palette images with Transparency expressed in bytes should be converted to RGBA images\n",
            "  \"Palette images with Transparency expressed in bytes should be \"\n"
          ],
          "name": "stderr"
        },
        {
          "output_type": "stream",
          "text": [
            "콩자반\n",
            "콩자반  파일 길이 :  986\n",
            "콩자반  :  other_food/콩자반/Img_025_0825.jpg\n",
            "콩자반  :  other_food/콩자반/Img_025_0889.jpg\n",
            "피자\n",
            "피자  파일 길이 :  1000\n",
            "피자  :  other_food/피자/Img_027_0536.jpg\n",
            "피자  :  other_food/피자/Img_027_0832.jpg\n"
          ],
          "name": "stdout"
        },
        {
          "output_type": "stream",
          "text": [
            "/usr/local/lib/python3.7/dist-packages/PIL/TiffImagePlugin.py:788: UserWarning: Corrupt EXIF data.  Expecting to read 12 bytes but only got 4. \n",
            "  warnings.warn(str(msg))\n"
          ],
          "name": "stderr"
        }
      ]
    },
    {
      "cell_type": "code",
      "metadata": {
        "colab": {
          "base_uri": "https://localhost:8080/"
        },
        "id": "oGkoiQUnJuKY",
        "outputId": "97099afb-9d3b-4a75-a48a-1af46461ec7c"
      },
      "source": [
        "caltech_dir = \"other_food\"\n",
        "# categories = ['beans', 'pizzas', 'fried_chickens']\n",
        "nb_classes = len(categories)\n",
        "\n",
        "image_w = 64\n",
        "image_h = 64\n",
        "\n",
        "pixels = image_h * image_w * 3\n",
        "\n",
        "X = []\n",
        "y = []\n",
        "\n",
        "for idx, food in enumerate(categories):\n",
        "    \n",
        "    #one-hot 돌리기.\n",
        "    label = [0 for i in range(nb_classes)]\n",
        "    label[idx] = 1\n",
        "\n",
        "    image_dir = caltech_dir + \"/\" + food\n",
        "    files = glob.glob(image_dir+\"/*.jpg\")\n",
        "    files.extend(glob.glob(image_dir+'/*.jpeg'))\n",
        "    files.extend(glob.glob(image_dir+'/*.png'))\n",
        "    files.extend(glob.glob(image_dir+'/*.gif'))\n",
        "    print(food, \" 파일 길이 : \", len(files))\n",
        "    for i, f in enumerate(files):\n",
        "        img = Image.open(f)\n",
        "        img = img.convert(\"RGB\")\n",
        "        img = img.resize((image_w, image_h))\n",
        "        data = np.asarray(img)\n",
        "\n",
        "        X.append(data)\n",
        "        y.append(label)\n",
        "\n",
        "        if i % 700 == 0:\n",
        "            print(food, \" : \", f)"
      ],
      "execution_count": 10,
      "outputs": [
        {
          "output_type": "stream",
          "text": [
            "후라이드치킨  파일 길이 :  991\n",
            "후라이드치킨  :  other_food/후라이드치킨/Img_028_0668.jpg\n",
            "후라이드치킨  :  other_food/후라이드치킨/Img_028_0227.jpg\n"
          ],
          "name": "stdout"
        },
        {
          "output_type": "stream",
          "text": [
            "/usr/local/lib/python3.7/dist-packages/PIL/Image.py:960: UserWarning: Palette images with Transparency expressed in bytes should be converted to RGBA images\n",
            "  \"Palette images with Transparency expressed in bytes should be \"\n"
          ],
          "name": "stderr"
        },
        {
          "output_type": "stream",
          "text": [
            "피자  파일 길이 :  1000\n",
            "피자  :  other_food/피자/Img_027_0000.jpg\n"
          ],
          "name": "stdout"
        },
        {
          "output_type": "stream",
          "text": [
            "/usr/local/lib/python3.7/dist-packages/PIL/TiffImagePlugin.py:788: UserWarning: Corrupt EXIF data.  Expecting to read 12 bytes but only got 4. \n",
            "  warnings.warn(str(msg))\n"
          ],
          "name": "stderr"
        },
        {
          "output_type": "stream",
          "text": [
            "피자  :  other_food/피자/Img_027_0798.jpg\n",
            "콩자반  파일 길이 :  986\n",
            "콩자반  :  other_food/콩자반/Img_025_0701.jpg\n",
            "콩자반  :  other_food/콩자반/Img_025_0347.jpg\n"
          ],
          "name": "stdout"
        }
      ]
    },
    {
      "cell_type": "code",
      "metadata": {
        "id": "d29CxCTbKIfy"
      },
      "source": [
        "!mkdir numpy_data"
      ],
      "execution_count": 11,
      "outputs": []
    },
    {
      "cell_type": "code",
      "metadata": {
        "colab": {
          "base_uri": "https://localhost:8080/"
        },
        "id": "8j4ILhO8KIIw",
        "outputId": "a3073d70-70ee-4093-e2eb-80fb46d090ae"
      },
      "source": [
        "X = np.array(X)\n",
        "y = np.array(y)\n",
        "#1 0 0 0 이면 airplanes\n",
        "#0 1 0 0 이면 buddha 이런식\n",
        "\n",
        "\n",
        "X_train, X_test, y_train, y_test = train_test_split(X, y)\n",
        "xy = (X_train, X_test, y_train, y_test)\n",
        "np.save(\"numpy_data/multi_image_data.npy\", xy)\n",
        "\n",
        "print(\"ok\", len(y))"
      ],
      "execution_count": 12,
      "outputs": [
        {
          "output_type": "stream",
          "text": [
            "ok 2977\n"
          ],
          "name": "stdout"
        },
        {
          "output_type": "stream",
          "text": [
            "/usr/local/lib/python3.7/dist-packages/numpy/core/_asarray.py:136: VisibleDeprecationWarning: Creating an ndarray from ragged nested sequences (which is a list-or-tuple of lists-or-tuples-or ndarrays with different lengths or shapes) is deprecated. If you meant to do this, you must specify 'dtype=object' when creating the ndarray\n",
            "  return array(a, dtype, copy=False, order=order, subok=True)\n"
          ],
          "name": "stderr"
        }
      ]
    },
    {
      "cell_type": "markdown",
      "metadata": {
        "id": "OgVY1w9MKXN-"
      },
      "source": [
        "## 모델 훈련"
      ]
    },
    {
      "cell_type": "markdown",
      "metadata": {
        "id": "7hwG9mRDKYyM"
      },
      "source": [
        "이제 numpy 데이터를 불러와 훈련을 시작한다."
      ]
    },
    {
      "cell_type": "code",
      "metadata": {
        "id": "X6MibNOGKfr-"
      },
      "source": [
        "import os, glob, numpy as np\n",
        "from keras.models import Sequential\n",
        "from keras.layers import Conv2D, MaxPooling2D, Dense, Flatten, Dropout\n",
        "from keras.callbacks import EarlyStopping, ModelCheckpoint\n",
        "import matplotlib.pyplot as plt\n",
        "import tensorflow as tf"
      ],
      "execution_count": 13,
      "outputs": []
    },
    {
      "cell_type": "code",
      "metadata": {
        "colab": {
          "base_uri": "https://localhost:8080/"
        },
        "id": "nssWsJb2KggD",
        "outputId": "a22d6007-0a9b-40e5-97cd-b8d22bce71b3"
      },
      "source": [
        "config = tf.compat.v1.ConfigProto()\n",
        "config.gpu_options.allow_growth = True\n",
        "session = tf.compat.v1.Session(config=config)\n",
        "\n",
        "X_train, X_test, y_train, y_test = np.load('numpy_data/multi_image_data.npy', allow_pickle=True)\n",
        "print(X_train.shape)\n",
        "print(X_train.shape[0])"
      ],
      "execution_count": 14,
      "outputs": [
        {
          "output_type": "stream",
          "text": [
            "(2232, 64, 64, 3)\n",
            "2232\n"
          ],
          "name": "stdout"
        }
      ]
    },
    {
      "cell_type": "code",
      "metadata": {
        "id": "hYBL7CwTK8vI"
      },
      "source": [
        "# categories = ['beans', 'pizzas', 'fried_chickens']\n",
        "# nb_classes = len(categories)\n",
        "\n",
        "#일반화\n",
        "X_train = X_train.astype(float) / 255\n",
        "X_test = X_test.astype(float) / 255"
      ],
      "execution_count": 15,
      "outputs": []
    },
    {
      "cell_type": "code",
      "metadata": {
        "id": "uZLjS5YCLEa4"
      },
      "source": [
        "!mkdir model"
      ],
      "execution_count": 16,
      "outputs": []
    },
    {
      "cell_type": "code",
      "metadata": {
        "id": "rPq6cAkCK_uJ"
      },
      "source": [
        "model = Sequential()\n",
        "model.add(Conv2D(32, (3,3), padding=\"same\", input_shape=X_train.shape[1:], activation='relu'))\n",
        "model.add(MaxPooling2D(pool_size=(2,2)))\n",
        "model.add(Dropout(0.25))\n",
        "    \n",
        "model.add(Conv2D(64, (3,3), padding=\"same\", activation='relu'))\n",
        "model.add(MaxPooling2D(pool_size=(2,2)))\n",
        "model.add(Dropout(0.25))\n",
        "    \n",
        "model.add(Flatten())\n",
        "model.add(Dense(256, activation='relu'))\n",
        "model.add(Dropout(0.5))\n",
        "model.add(Dense(nb_classes, activation='softmax'))\n",
        "model.compile(loss='categorical_crossentropy', optimizer='adam', metrics=['accuracy'])\n",
        "model_dir = 'model'\n",
        "    \n",
        "if not os.path.exists(model_dir):\n",
        "    os.mkdir(model_dir)\n",
        "    \n",
        "model_path = model_dir + '/multi_img_classification.model'\n",
        "checkpoint = ModelCheckpoint(filepath=model_path , monitor='val_loss', verbose=1, save_best_only=True)\n",
        "early_stopping = EarlyStopping(monitor='val_loss', patience=6)"
      ],
      "execution_count": 17,
      "outputs": []
    },
    {
      "cell_type": "code",
      "metadata": {
        "colab": {
          "base_uri": "https://localhost:8080/"
        },
        "id": "JopavN_PLKRO",
        "outputId": "6c9d212e-9a44-45fa-c42e-b8d9d71190c7"
      },
      "source": [
        "model.summary()"
      ],
      "execution_count": 18,
      "outputs": [
        {
          "output_type": "stream",
          "text": [
            "Model: \"sequential\"\n",
            "_________________________________________________________________\n",
            "Layer (type)                 Output Shape              Param #   \n",
            "=================================================================\n",
            "conv2d (Conv2D)              (None, 64, 64, 32)        896       \n",
            "_________________________________________________________________\n",
            "max_pooling2d (MaxPooling2D) (None, 32, 32, 32)        0         \n",
            "_________________________________________________________________\n",
            "dropout (Dropout)            (None, 32, 32, 32)        0         \n",
            "_________________________________________________________________\n",
            "conv2d_1 (Conv2D)            (None, 32, 32, 64)        18496     \n",
            "_________________________________________________________________\n",
            "max_pooling2d_1 (MaxPooling2 (None, 16, 16, 64)        0         \n",
            "_________________________________________________________________\n",
            "dropout_1 (Dropout)          (None, 16, 16, 64)        0         \n",
            "_________________________________________________________________\n",
            "flatten (Flatten)            (None, 16384)             0         \n",
            "_________________________________________________________________\n",
            "dense (Dense)                (None, 256)               4194560   \n",
            "_________________________________________________________________\n",
            "dropout_2 (Dropout)          (None, 256)               0         \n",
            "_________________________________________________________________\n",
            "dense_1 (Dense)              (None, 3)                 771       \n",
            "=================================================================\n",
            "Total params: 4,214,723\n",
            "Trainable params: 4,214,723\n",
            "Non-trainable params: 0\n",
            "_________________________________________________________________\n"
          ],
          "name": "stdout"
        }
      ]
    },
    {
      "cell_type": "code",
      "metadata": {
        "colab": {
          "base_uri": "https://localhost:8080/"
        },
        "id": "tyKNyc_WLM4f",
        "outputId": "bbcbd72c-19e6-46c8-ec4a-9ac043670208"
      },
      "source": [
        "#데이터셋이 적어서 validation을 그냥 test 데이터로 했습니다. \n",
        "#데이터셋이 충분하시면 이렇게 하시지 마시고 validation_split=0.2 이렇게 하셔서 테스트 셋으로 나누시길 권장합니다.\n",
        "# history = model.fit(X_train, y_train, batch_size=32, epochs=50, validation_data=(X_test, y_test), callbacks=[checkpoint, early_stopping])\n",
        "history = model.fit(X_train, y_train, batch_size=32, epochs=50, validation_split=0.2, callbacks=[checkpoint, early_stopping])"
      ],
      "execution_count": 19,
      "outputs": [
        {
          "output_type": "stream",
          "text": [
            "Epoch 1/50\n",
            "56/56 [==============================] - 34s 19ms/step - loss: 1.4043 - accuracy: 0.4874 - val_loss: 0.5454 - val_accuracy: 0.6801\n",
            "\n",
            "Epoch 00001: val_loss improved from inf to 0.54543, saving model to model/multi_img_classification.model\n",
            "INFO:tensorflow:Assets written to: model/multi_img_classification.model/assets\n",
            "Epoch 2/50\n",
            "56/56 [==============================] - 0s 9ms/step - loss: 0.4927 - accuracy: 0.7594 - val_loss: 0.3940 - val_accuracy: 0.8546\n",
            "\n",
            "Epoch 00002: val_loss improved from 0.54543 to 0.39402, saving model to model/multi_img_classification.model\n",
            "INFO:tensorflow:Assets written to: model/multi_img_classification.model/assets\n",
            "Epoch 3/50\n",
            "56/56 [==============================] - 0s 8ms/step - loss: 0.3924 - accuracy: 0.8315 - val_loss: 0.3608 - val_accuracy: 0.8680\n",
            "\n",
            "Epoch 00003: val_loss improved from 0.39402 to 0.36077, saving model to model/multi_img_classification.model\n",
            "INFO:tensorflow:Assets written to: model/multi_img_classification.model/assets\n",
            "Epoch 4/50\n",
            "56/56 [==============================] - 0s 8ms/step - loss: 0.3408 - accuracy: 0.8592 - val_loss: 0.3301 - val_accuracy: 0.8725\n",
            "\n",
            "Epoch 00004: val_loss improved from 0.36077 to 0.33013, saving model to model/multi_img_classification.model\n",
            "INFO:tensorflow:Assets written to: model/multi_img_classification.model/assets\n",
            "Epoch 5/50\n",
            "56/56 [==============================] - 0s 8ms/step - loss: 0.2951 - accuracy: 0.8854 - val_loss: 0.2965 - val_accuracy: 0.8837\n",
            "\n",
            "Epoch 00005: val_loss improved from 0.33013 to 0.29652, saving model to model/multi_img_classification.model\n",
            "INFO:tensorflow:Assets written to: model/multi_img_classification.model/assets\n",
            "Epoch 6/50\n",
            "56/56 [==============================] - 0s 8ms/step - loss: 0.2480 - accuracy: 0.9065 - val_loss: 0.2606 - val_accuracy: 0.8949\n",
            "\n",
            "Epoch 00006: val_loss improved from 0.29652 to 0.26055, saving model to model/multi_img_classification.model\n",
            "INFO:tensorflow:Assets written to: model/multi_img_classification.model/assets\n",
            "Epoch 7/50\n",
            "56/56 [==============================] - 0s 8ms/step - loss: 0.2416 - accuracy: 0.8992 - val_loss: 0.2651 - val_accuracy: 0.9060\n",
            "\n",
            "Epoch 00007: val_loss did not improve from 0.26055\n",
            "Epoch 8/50\n",
            "56/56 [==============================] - 0s 8ms/step - loss: 0.1826 - accuracy: 0.9363 - val_loss: 0.2942 - val_accuracy: 0.9060\n",
            "\n",
            "Epoch 00008: val_loss did not improve from 0.26055\n",
            "Epoch 9/50\n",
            "56/56 [==============================] - 0s 8ms/step - loss: 0.1619 - accuracy: 0.9324 - val_loss: 0.2350 - val_accuracy: 0.9150\n",
            "\n",
            "Epoch 00009: val_loss improved from 0.26055 to 0.23503, saving model to model/multi_img_classification.model\n",
            "INFO:tensorflow:Assets written to: model/multi_img_classification.model/assets\n",
            "Epoch 10/50\n",
            "56/56 [==============================] - 0s 8ms/step - loss: 0.1506 - accuracy: 0.9541 - val_loss: 0.3189 - val_accuracy: 0.8747\n",
            "\n",
            "Epoch 00010: val_loss did not improve from 0.23503\n",
            "Epoch 11/50\n",
            "56/56 [==============================] - 0s 8ms/step - loss: 0.1823 - accuracy: 0.9303 - val_loss: 0.2222 - val_accuracy: 0.9150\n",
            "\n",
            "Epoch 00011: val_loss improved from 0.23503 to 0.22224, saving model to model/multi_img_classification.model\n",
            "INFO:tensorflow:Assets written to: model/multi_img_classification.model/assets\n",
            "Epoch 12/50\n",
            "56/56 [==============================] - 0s 8ms/step - loss: 0.1032 - accuracy: 0.9607 - val_loss: 0.2630 - val_accuracy: 0.8949\n",
            "\n",
            "Epoch 00012: val_loss did not improve from 0.22224\n",
            "Epoch 13/50\n",
            "56/56 [==============================] - 0s 8ms/step - loss: 0.0981 - accuracy: 0.9631 - val_loss: 0.3358 - val_accuracy: 0.8725\n",
            "\n",
            "Epoch 00013: val_loss did not improve from 0.22224\n",
            "Epoch 14/50\n",
            "56/56 [==============================] - 0s 8ms/step - loss: 0.0937 - accuracy: 0.9627 - val_loss: 0.2242 - val_accuracy: 0.9195\n",
            "\n",
            "Epoch 00014: val_loss did not improve from 0.22224\n",
            "Epoch 15/50\n",
            "56/56 [==============================] - 0s 8ms/step - loss: 0.1017 - accuracy: 0.9612 - val_loss: 0.2023 - val_accuracy: 0.9306\n",
            "\n",
            "Epoch 00015: val_loss improved from 0.22224 to 0.20230, saving model to model/multi_img_classification.model\n",
            "INFO:tensorflow:Assets written to: model/multi_img_classification.model/assets\n",
            "Epoch 16/50\n",
            "56/56 [==============================] - 0s 8ms/step - loss: 0.0568 - accuracy: 0.9803 - val_loss: 0.2258 - val_accuracy: 0.9262\n",
            "\n",
            "Epoch 00016: val_loss did not improve from 0.20230\n",
            "Epoch 17/50\n",
            "56/56 [==============================] - 0s 8ms/step - loss: 0.0530 - accuracy: 0.9810 - val_loss: 0.2239 - val_accuracy: 0.9351\n",
            "\n",
            "Epoch 00017: val_loss did not improve from 0.20230\n",
            "Epoch 18/50\n",
            "56/56 [==============================] - 0s 8ms/step - loss: 0.0588 - accuracy: 0.9735 - val_loss: 0.3049 - val_accuracy: 0.8971\n",
            "\n",
            "Epoch 00018: val_loss did not improve from 0.20230\n",
            "Epoch 19/50\n",
            "56/56 [==============================] - 0s 8ms/step - loss: 0.0568 - accuracy: 0.9805 - val_loss: 0.2221 - val_accuracy: 0.9262\n",
            "\n",
            "Epoch 00019: val_loss did not improve from 0.20230\n",
            "Epoch 20/50\n",
            "56/56 [==============================] - 0s 8ms/step - loss: 0.0503 - accuracy: 0.9877 - val_loss: 0.2436 - val_accuracy: 0.9195\n",
            "\n",
            "Epoch 00020: val_loss did not improve from 0.20230\n",
            "Epoch 21/50\n",
            "56/56 [==============================] - 0s 8ms/step - loss: 0.0303 - accuracy: 0.9903 - val_loss: 0.2346 - val_accuracy: 0.9239\n",
            "\n",
            "Epoch 00021: val_loss did not improve from 0.20230\n"
          ],
          "name": "stdout"
        }
      ]
    },
    {
      "cell_type": "code",
      "metadata": {
        "colab": {
          "base_uri": "https://localhost:8080/"
        },
        "id": "qg3PRGM-LR6d",
        "outputId": "9613dbc8-c04b-42bb-b0d2-2922da267093"
      },
      "source": [
        "print(\"정확도 : %.4f\" % (model.evaluate(X_test, y_test)[1]))"
      ],
      "execution_count": 20,
      "outputs": [
        {
          "output_type": "stream",
          "text": [
            "24/24 [==============================] - 0s 6ms/step - loss: 0.2790 - accuracy: 0.9181\n",
            "정확도 : 0.9181\n"
          ],
          "name": "stdout"
        }
      ]
    },
    {
      "cell_type": "code",
      "metadata": {
        "colab": {
          "base_uri": "https://localhost:8080/",
          "height": 279
        },
        "id": "Hc1x4uGyLT9C",
        "outputId": "4935ff7a-5259-4f24-9e2d-9ceb2356dfb3"
      },
      "source": [
        "y_vloss = history.history['val_loss']\n",
        "y_loss = history.history['loss']\n",
        "\n",
        "x_len = np.arange(len(y_loss))\n",
        "\n",
        "plt.plot(x_len, y_vloss, marker='.', c='red', label='val_set_loss')\n",
        "plt.plot(x_len, y_loss, marker='.', c='blue', label='train_set_oss')\n",
        "plt.legend()\n",
        "plt.xlabel('epochs')\n",
        "plt.ylabel('loss')\n",
        "plt.grid()\n",
        "plt.show()"
      ],
      "execution_count": 21,
      "outputs": [
        {
          "output_type": "display_data",
          "data": {
            "image/png": "[encoded data removed]",
            "text/plain": [
              "<Figure size 432x288 with 1 Axes>"
            ]
          },
          "metadata": {
            "tags": [],
            "needs_background": "light"
          }
        }
      ]
    },
    {
      "cell_type": "markdown",
      "metadata": {
        "id": "8YpIs24ZK-36"
      },
      "source": [
        "## 모델 정확성 검증"
      ]
    },
    {
      "cell_type": "code",
      "metadata": {
        "id": "6eSgQKAHMZrF"
      },
      "source": [
        "from PIL import Image\n",
        "import os, glob, numpy as np\n",
        "from keras.models import load_model"
      ],
      "execution_count": 22,
      "outputs": []
    },
    {
      "cell_type": "code",
      "metadata": {
        "colab": {
          "base_uri": "https://localhost:8080/"
        },
        "id": "Cfi9HxyKMfzN",
        "outputId": "8ffe250b-269d-4a29-8bb2-c178cbb9ed10"
      },
      "source": [
        "caltech_dir = \"img_test\"\n",
        "image_w = 64\n",
        "image_h = 64\n",
        "\n",
        "pixels = image_h * image_w * 3\n",
        "\n",
        "X = []\n",
        "filenames = []\n",
        "files = glob.glob(caltech_dir+\"/*.*\")\n",
        "for i, f in enumerate(files):\n",
        "    img = Image.open(f)\n",
        "    img = img.convert(\"RGB\")\n",
        "    img = img.resize((image_w, image_h))\n",
        "    data = np.asarray(img)\n",
        "    filenames.append(f)\n",
        "    X.append(data)\n",
        "\n",
        "X = np.array(X)\n",
        "model = load_model('model/multi_img_classification.model')\n",
        "\n",
        "prediction = model.predict(X)\n",
        "np.set_printoptions(formatter={'float': lambda x: \"{0:0.3f}\".format(x)})\n",
        "cnt = 0\n",
        "\n",
        "#이 비교는 그냥 파일들이 있으면 해당 파일과 비교. 카테고리와 함께 비교해서 진행하는 것은 _4 파일.\n",
        "for i in prediction:\n",
        "    pre_ans = i.argmax()  # 예측 레이블\n",
        "    print(i)\n",
        "    print(pre_ans)\n",
        "\n",
        "    # pre_ans_str = ''\n",
        "    # if pre_ans == 0: pre_ans_str = \"후라이드치킨\"\n",
        "    # elif pre_ans == 1: pre_ans_str = \"콩자반\"\n",
        "    # else: pre_ans_str = \"피자\"\n",
        "\n",
        "    pre_ans_str = categories[pre_ans]\n",
        "    print(\"해당 \"+filenames[cnt].split(\"/\")[1]+\" 이미지는 \"+pre_ans_str+\"로 추정됩니다.\")\n",
        "\n",
        "    # if i[0] >= 0.8 : print(\"해당 \"+filenames[cnt].split(\"/\")[1]+\" 이미지는 \"+pre_ans_str+\"로 추정됩니다.\")\n",
        "    # if i[1] >= 0.8: print(\"해당 \"+filenames[cnt].split(\"/\")[1]+\" 이미지는 \"+pre_ans_str+\"으로 추정됩니다.\")\n",
        "    # if i[2] >= 0.8: print(\"해당 \"+filenames[cnt].split(\"/\")[1]+\" 이미지는 \"+pre_ans_str+\"로 추정됩니다.\")\n",
        "    # print(i[0], i[1], i[2])\n",
        "    cnt += 1\n",
        "    # print(i.argmax()) #얘가 레이블 [1. 0. 0.] 이런식으로 되어 있는 것을 숫자로 바꿔주는 것.\n",
        "    # 즉 얘랑, 나중에 카테고리 데이터 불러와서 카테고리랑 비교를 해서 같으면 맞는거고, 아니면 틀린거로 취급하면 된다.\n",
        "    # 이걸 한 것은 _4.py에."
      ],
      "execution_count": 23,
      "outputs": [
        {
          "output_type": "stream",
          "text": [
            "[0.000 0.000 1.000]\n",
            "2\n",
            "해당 beans_0002.png 이미지는 콩자반로 추정됩니다.\n",
            "[1.000 0.000 0.000]\n",
            "0\n",
            "해당 fried_chickens_0000.jpg 이미지는 후라이드치킨로 추정됩니다.\n",
            "[0.000 1.000 0.000]\n",
            "1\n",
            "해당 beans_0000.jpg 이미지는 피자로 추정됩니다.\n",
            "[0.000 1.000 0.000]\n",
            "1\n",
            "해당 fried_chickens_0001.jpg 이미지는 피자로 추정됩니다.\n",
            "[0.000 1.000 0.000]\n",
            "1\n",
            "해당 pizzas_0002.jpg 이미지는 피자로 추정됩니다.\n",
            "[0.000 1.000 0.000]\n",
            "1\n",
            "해당 pizzas_0000.jpg 이미지는 피자로 추정됩니다.\n",
            "[0.000 1.000 0.000]\n",
            "1\n",
            "해당 fried_chickens_0002.jpg 이미지는 피자로 추정됩니다.\n",
            "[0.000 0.000 1.000]\n",
            "2\n",
            "해당 beans_0001.jpg 이미지는 콩자반로 추정됩니다.\n",
            "[0.000 1.000 0.000]\n",
            "1\n",
            "해당 pizzas_0001.jpg 이미지는 피자로 추정됩니다.\n"
          ],
          "name": "stdout"
        }
      ]
    },
    {
      "cell_type": "markdown",
      "metadata": {
        "id": "ssx-Pc72bJ0r"
      },
      "source": [
        "## 모델 다운로드"
      ]
    },
    {
      "cell_type": "markdown",
      "metadata": {
        "id": "jYC57Z62c3Si"
      },
      "source": [
        "먼저 하위 폴더 목록을 확인한다."
      ]
    },
    {
      "cell_type": "code",
      "metadata": {
        "colab": {
          "base_uri": "https://localhost:8080/"
        },
        "id": "Ao-BxDaMbM0p",
        "outputId": "4b73c4e5-240b-4eec-b63a-7c5434fba372"
      },
      "source": [
        "ls"
      ],
      "execution_count": 24,
      "outputs": [
        {
          "output_type": "stream",
          "text": [
            "\u001b[0m\u001b[01;34mimg_test\u001b[0m/     \u001b[01;34mmodel\u001b[0m/       \u001b[01;34mother_food\u001b[0m/     \u001b[01;34msample_data\u001b[0m/\n",
            "img_test.zip  \u001b[01;34mnumpy_data\u001b[0m/  other_food.zip\n"
          ],
          "name": "stdout"
        }
      ]
    },
    {
      "cell_type": "markdown",
      "metadata": {
        "id": "DUnx3AJCc3A1"
      },
      "source": [
        "다음 다운로드 할 모델 폴더를 압축한다. `model` 폴더 하위에 `myModel.zip` 파일이 생성된다."
      ]
    },
    {
      "cell_type": "code",
      "metadata": {
        "id": "EZhp6eAGbWx7"
      },
      "source": [
        "import os\n",
        "import zipfile\n",
        " \n",
        "new_zips= zipfile.ZipFile('/content/model/myModel.zip', 'w')\n",
        " \n",
        "for folder, subfolders, files in os.walk('/content/model/'):\n",
        " \n",
        "    for file in files:\n",
        "        new_zips.write(os.path.join(folder, file), os.path.relpath(os.path.join(folder,file), '/content/model/'), compress_type = zipfile.ZIP_DEFLATED)\n",
        " \n",
        "new_zips.close()"
      ],
      "execution_count": 25,
      "outputs": []
    },
    {
      "cell_type": "markdown",
      "metadata": {
        "id": "Pjn9CW0_dI6P"
      },
      "source": [
        "마지막으로 생성한 zip 파일을 로컬 PC에 다운받는다."
      ]
    },
    {
      "cell_type": "code",
      "metadata": {
        "colab": {
          "base_uri": "https://localhost:8080/",
          "height": 17
        },
        "id": "4Tbm394JdJvD",
        "outputId": "cbbce47b-5906-4a9c-b5b0-20d20f4e2432"
      },
      "source": [
        "from google.colab import files\n",
        "\n",
        "files.download('/content/model/myModel.zip')"
      ],
      "execution_count": 26,
      "outputs": [
        {
          "output_type": "display_data",
          "data": {
            "application/javascript": [
              "\n",
              "    async function download(id, filename, size) {\n",
              "      if (!google.colab.kernel.accessAllowed) {\n",
              "        return;\n",
              "      }\n",
              "      const div = document.createElement('div');\n",
              "      const label = document.createElement('label');\n",
              "      label.textContent = `Downloading \"${filename}\": `;\n",
              "      div.appendChild(label);\n",
              "      const progress = document.createElement('progress');\n",
              "      progress.max = size;\n",
              "      div.appendChild(progress);\n",
              "      document.body.appendChild(div);\n",
              "\n",
              "      const buffers = [];\n",
              "      let downloaded = 0;\n",
              "\n",
              "      const channel = await google.colab.kernel.comms.open(id);\n",
              "      // Send a message to notify the kernel that we're ready.\n",
              "      channel.send({})\n",
              "\n",
              "      for await (const message of channel.messages) {\n",
              "        // Send a message to notify the kernel that we're ready.\n",
              "        channel.send({})\n",
              "        if (message.buffers) {\n",
              "          for (const buffer of message.buffers) {\n",
              "            buffers.push(buffer);\n",
              "            downloaded += buffer.byteLength;\n",
              "            progress.value = downloaded;\n",
              "          }\n",
              "        }\n",
              "      }\n",
              "      const blob = new Blob(buffers, {type: 'application/binary'});\n",
              "      const a = document.createElement('a');\n",
              "      a.href = window.URL.createObjectURL(blob);\n",
              "      a.download = filename;\n",
              "      div.appendChild(a);\n",
              "      a.click();\n",
              "      div.remove();\n",
              "    }\n",
              "  "
            ],
            "text/plain": [
              "<IPython.core.display.Javascript object>"
            ]
          },
          "metadata": {
            "tags": []
          }
        },
        {
          "output_type": "display_data",
          "data": {
            "application/javascript": [
              "download(\"download_99dfbf99-8d5c-4255-80c8-3b155fb6df9a\", \"myModel.zip\", 37965838)"
            ],
            "text/plain": [
              "<IPython.core.display.Javascript object>"
            ]
          },
          "metadata": {
            "tags": []
          }
        }
      ]
    },
    {
      "cell_type": "markdown",
      "metadata": {
        "id": "ia91k0Tidywn"
      },
      "source": [
        "다운받은 모델을 다른 프로젝트에서 사용할 때에는 현 프로젝트처럼 압축을 풀고 폴더로 로드해야 한다.\n",
        "\n",
        "실제로 다운받은 파일 압축을 풀어보니 깨진 myModel.zip 파일이 하나 더 들어있었다.\n",
        "\n",
        "그 외의 파일들은 다 제대로 들어있다."
      ]
    }
  ]
}