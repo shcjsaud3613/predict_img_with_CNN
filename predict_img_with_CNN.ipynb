{
  "nbformat": 4,
  "nbformat_minor": 0,
  "metadata": {
    "colab": {
      "name": "predict_img_with_CNN.ipynb",
      "provenance": [],
      "collapsed_sections": [],
      "authorship_tag": "ABX9TyODPupbzc7WPOCsL87eUuQm",
      "include_colab_link": true
    },
    "kernelspec": {
      "name": "python3",
      "display_name": "Python 3"
    },
    "language_info": {
      "name": "python"
    }
  },
  "cells": [
    {
      "cell_type": "markdown",
      "metadata": {
        "id": "view-in-github",
        "colab_type": "text"
      },
      "source": [
        "<a href=\"https://colab.research.google.com/github/shcjsaud3613/predict_img_with_CNN/blob/main/predict_img_with_CNN.ipynb\" target=\"_parent\"><img src=\"https://colab.research.google.com/assets/colab-badge.svg\" alt=\"Open In Colab\"/></a>"
      ]
    },
    {
      "cell_type": "markdown",
      "metadata": {
        "id": "T79zY923wa3U"
      },
      "source": [
        "# CNN을 통한 단일 이미지 학습"
      ]
    },
    {
      "cell_type": "markdown",
      "metadata": {
        "id": "pUi36Rhgwkk-"
      },
      "source": [
        "## Google Colab 링크\n",
        "\n",
        "https://colab.research.google.com/drive/1LO9LJAGce41EhLOy-BcpjHAZvry6b6JG#scrollTo=U8-TLsKCvwF8"
      ]
    },
    {
      "cell_type": "markdown",
      "metadata": {
        "id": "6z_QgYoawzj3"
      },
      "source": [
        "**학습 데이터세트는 AI Hub에서 신청하여 받았고, 저작자는 한국지능정보사회진흥원이다.**\n"
      ]
    },
    {
      "cell_type": "markdown",
      "metadata": {
        "id": "QvD1w6-Mx0Eh"
      },
      "source": [
        "## 참고자료"
      ]
    },
    {
      "cell_type": "markdown",
      "metadata": {
        "id": "Z8Ky2FRmx3P2"
      },
      "source": [
        "https://lsjsj92.tistory.com/387"
      ]
    },
    {
      "cell_type": "markdown",
      "metadata": {
        "id": "3hie9WPsxL-F"
      },
      "source": [
        "## 데이터 분류"
      ]
    },
    {
      "cell_type": "markdown",
      "metadata": {
        "id": "umJqPKKjxPU1"
      },
      "source": [
        "먼저 이미지를 배열화시킨다.\n",
        "\n",
        "다음 이미지를 훈련 데이터, 테스트 데이터로 나눈다.\n",
        "\n",
        "이후 numpy 형태로 저장한다."
      ]
    },
    {
      "cell_type": "code",
      "metadata": {
        "id": "U8-TLsKCvwF8"
      },
      "source": [
        "from PIL import Image\n",
        "import os, glob, sys, numpy as np\n",
        "from sklearn.model_selection import train_test_split\n",
        "from keras.utils import np_utils"
      ],
      "execution_count": null,
      "outputs": []
    },
    {
      "cell_type": "code",
      "metadata": {
        "id": "y_ghZ65HxfMp"
      },
      "source": [
        "img_dir = './binary_img_data/imgs'\n",
        "categories = ['Cat', 'Dog']\n",
        "np_classes = len(categories)\n",
        "\n",
        "image_w = 64\n",
        "image_h = 64\n",
        "\n",
        "\n",
        "pixel = image_h * image_w * 3\n",
        "\n",
        "X = []\n",
        "y = []\n",
        "\n",
        "for idx, cat in enumerate(categories):\n",
        "    img_dir_detail = img_dir + \"/\" + cat\n",
        "    files = glob.glob(img_dir_detail+\"/*.jpg\")\n",
        "\n",
        "\n",
        "    for i, f in enumerate(files):\n",
        "        try:\n",
        "            img = Image.open(f)\n",
        "            img = img.convert(\"RGB\")\n",
        "            img = img.resize((image_w, image_h))\n",
        "            data = np.asarray(img)\n",
        "            #Y는 0 아니면 1이니까 idx값으로 넣는다.\n",
        "            X.append(data)\n",
        "            y.append(idx)\n",
        "            if i % 300 == 0:\n",
        "                print(cat, \" : \", f)\n",
        "        except:\n",
        "            print(cat, str(i)+\" 번째에서 에러 \")"
      ],
      "execution_count": null,
      "outputs": []
    },
    {
      "cell_type": "code",
      "metadata": {
        "id": "roE-T0DAyA63"
      },
      "source": [
        "X = np.array(X)\n",
        "Y = np.array(y)\n",
        "\n",
        "\n",
        "X_train, X_test, Y_train, Y_test = train_test_split(X, Y, test_size=0.1)\n",
        "\n",
        "xy = (X_train, X_test, Y_train, Y_test)\n",
        "np.save(\"./numpy_data/binary_image_data.npy\", xy)"
      ],
      "execution_count": null,
      "outputs": []
    },
    {
      "cell_type": "markdown",
      "metadata": {
        "id": "4AWcphNVyIzT"
      },
      "source": [
        "## 모델 훈련"
      ]
    },
    {
      "cell_type": "markdown",
      "metadata": {
        "id": "mysup-CpyKes"
      },
      "source": [
        "이제 훈련을 시작한다."
      ]
    },
    {
      "cell_type": "code",
      "metadata": {
        "id": "T3anuQUUyL7C"
      },
      "source": [
        "from keras.models import Sequential\n",
        "from keras.layers import Conv2D, MaxPooling2D, Dense, Flatten, Dropout\n",
        "from keras.callbacks import EarlyStopping, ModelCheckpoint\n",
        "import matplotlib.pyplot as plt\n",
        "import keras.backend.tensorflow_backend as K"
      ],
      "execution_count": null,
      "outputs": []
    },
    {
      "cell_type": "code",
      "metadata": {
        "id": "7h-OXh-PyOlR"
      },
      "source": [
        "X_train, X_test, y_train, y_test = np.load('./numpy_data/binary_image_data.npy')\n",
        "print(X_train.shape)\n",
        "print(X_train.shape[0])\n",
        "print(np.bincount(y_train))\n",
        "print(np.bincount(y_test))"
      ],
      "execution_count": null,
      "outputs": []
    },
    {
      "cell_type": "code",
      "metadata": {
        "id": "2pguHTReybYp"
      },
      "source": [
        "image_w = 64\n",
        "image_h = 64\n",
        "X_train = X_train.astype('float32') / 255\n",
        "X_test = X_test.astype('float32') / 255\n",
        "\n",
        "\n",
        "with K.tf_ops.device('/device:GPU:0'):\n",
        "    model = Sequential()\n",
        "    model.add(Conv2D(32, (3,3), padding=\"same\", input_shape=X_train.shape[1:], activation=\"relu\"))\n",
        "    model.add(MaxPooling2D(pool_size=(2,2)))\n",
        "    model.add(Conv2D(32, (3,3), padding=\"same\", activation=\"relu\"))\n",
        "    model.add(MaxPooling2D(pool_size=(2,2)))\n",
        "\n",
        "    model.add(Conv2D(64, (3,3), padding=\"same\", activation=\"relu\"))\n",
        "    model.add(MaxPooling2D(pool_size=(2,2)))\n",
        "    model.add(Dropout(0.25))\n",
        "\n",
        "    model.add(Conv2D(64, (3,3), padding=\"same\", activation=\"relu\"))\n",
        "    model.add(MaxPooling2D(pool_size=(2,2)))\n",
        "    model.add(Dropout(0.25))\n",
        "\n",
        "    model.add(Flatten())\n",
        "    model.add(Dense(256, activation=\"relu\"))\n",
        "    model.add(Dropout(0.5))\n",
        "    model.add(Dense(1, activation=\"sigmoid\"))\n",
        "    \n",
        "    model.compile(loss='binary_crossentropy', optimizer='adam', metrics=['accuracy'])\n",
        "    \n",
        "    model_dir = './model'\n",
        "    if not os.path.exists(model_dir):\n",
        "        os.mkdir(model_dir)\n",
        "    model_path = model_dir + \"/dog_cat_classify.model\"\n",
        "    \n",
        "    checkpoint = ModelCheckpoint(filepath=model_path, monitor='val_loss', verbose=1, save_best_only=True)\n",
        "    early_stopping = EarlyStopping(monitor='val_loss', patience=7)"
      ],
      "execution_count": null,
      "outputs": []
    },
    {
      "cell_type": "code",
      "metadata": {
        "id": "7VI-qA5AycJ_"
      },
      "source": [
        "model.summary()"
      ],
      "execution_count": null,
      "outputs": []
    },
    {
      "cell_type": "code",
      "metadata": {
        "id": "jU_Lz4JKygZv"
      },
      "source": [
        "history = model.fit(X_train, y_train, batch_size=64, epochs=100, validation_split=0.15, callbacks=[checkpoint, early_stopping])"
      ],
      "execution_count": null,
      "outputs": []
    },
    {
      "cell_type": "code",
      "metadata": {
        "id": "wlWWmTvyyjQx"
      },
      "source": [
        "print(\"정확도 : %.2f \" %(model.evaluate(X_test, y_test)[1]))"
      ],
      "execution_count": null,
      "outputs": []
    },
    {
      "cell_type": "code",
      "metadata": {
        "id": "7UjNW3pNyjbT"
      },
      "source": [
        "plt.plot(history.history['loss'])\n",
        "plt.plot(history.history['val_loss'])\n",
        "plt.plot(history.history['acc'])\n",
        "plt.plot(history.history['val_acc'])\n",
        "plt.title('model loss')\n",
        "plt.ylabel('loss')\n",
        "plt.xlabel('epoch')\n",
        "plt.legend(['loss', 'val_loss', 'acc', 'val_acc'], loc='upper left')\n",
        "plt.show()"
      ],
      "execution_count": null,
      "outputs": []
    },
    {
      "cell_type": "markdown",
      "metadata": {
        "id": "cmMtFtSIyoxD"
      },
      "source": [
        "## 모델 정확성 검증"
      ]
    },
    {
      "cell_type": "code",
      "metadata": {
        "id": "nSat_SXJyvYn"
      },
      "source": [
        "from PIL import Image\n",
        "import os, glob, numpy as np\n",
        "from keras.models import load_model\n",
        "\n",
        "import tensorflow as tf"
      ],
      "execution_count": null,
      "outputs": []
    },
    {
      "cell_type": "code",
      "metadata": {
        "id": "l7bdO2INyjni"
      },
      "source": [
        "seed = 5\n",
        "tf.set_random_seed(seed)\n",
        "np.random.seed(seed)\n",
        "\n",
        "caltech_dir = './binary_img_data/img_test'\n",
        "\n",
        "\n",
        "image_w = 64\n",
        "image_h = 64\n",
        "\n",
        "pixels = image_h * image_w * 3\n",
        "\n",
        "X = []\n",
        "filenames = []\n",
        "files = glob.glob(caltech_dir+\"/*/*.*\")\n",
        "for i, f in enumerate(files):\n",
        "    img = Image.open(f)\n",
        "    img = img.convert(\"RGB\")\n",
        "    img = img.resize((image_w, image_h))\n",
        "    data = np.asarray(img)\n",
        "\n",
        "    filenames.append(f)\n",
        "    X.append(data)\n",
        "\n",
        "\n",
        "X = np.array(X)\n",
        "X = X.astype(float) / 255\n",
        "model = load_model('./model/dog_cat_classify.model')\n",
        "\n",
        "prediction = model.predict(X)\n",
        "np.set_printoptions(formatter={'float': lambda x: \"{0:0.3f}\".format(x)})\n",
        "cnt = 0\n",
        "for i in prediction:\n",
        "    if i >= 0.5: print(\"해당 \" + filenames[cnt].split(\"\\\\\")[1] + filenames[cnt].split(\"\\\\\")[2] + \"  이미지는 개 로 추정됩니다.\")\n",
        "    else : print(\"해당 \" + filenames[cnt].split(\"\\\\\")[1] + filenames[cnt].split(\"\\\\\")[2] + \"  이미지는 고양이 으로 추정됩니다.\")\n",
        "    cnt += 1"
      ],
      "execution_count": null,
      "outputs": []
    }
  ]
}