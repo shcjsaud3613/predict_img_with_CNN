{
  "nbformat": 4,
  "nbformat_minor": 0,
  "metadata": {
    "colab": {
      "name": "food_classifier_total.ipynb",
      "provenance": [],
      "collapsed_sections": [],
      "authorship_tag": "ABX9TyMYlOtM9HuZupeoXVldwoRk",
      "include_colab_link": true
    },
    "kernelspec": {
      "name": "python3",
      "display_name": "Python 3"
    },
    "language_info": {
      "name": "python"
    },
    "accelerator": "GPU"
  },
  "cells": [
    {
      "cell_type": "markdown",
      "metadata": {
        "id": "view-in-github",
        "colab_type": "text"
      },
      "source": [
        "<a href=\"https://colab.research.google.com/github/shcjsaud3613/predict_img_with_CNN/blob/main/food_classifier_total.ipynb\" target=\"_parent\"><img src=\"https://colab.research.google.com/assets/colab-badge.svg\" alt=\"Open In Colab\"/></a>"
      ]
    },
    {
      "cell_type": "markdown",
      "metadata": {
        "id": "tHHt-m9ParQr"
      },
      "source": [
        "# InceptionV3를 활용한 음식 이미지 분류"
      ]
    },
    {
      "cell_type": "markdown",
      "metadata": {
        "id": "u08Y20qIbE-w"
      },
      "source": [
        "이 파일은 keras, tensorflow, InceptionV3를 활용한 음식 이미지를 학습하고 분류하는 모델을 만드는 과정을 다룬다."
      ]
    },
    {
      "cell_type": "markdown",
      "metadata": {
        "id": "OYjmXH1EbAvI"
      },
      "source": [
        "## Google Colab 링크\n",
        "\n",
        "https://colab.research.google.com/drive/1wl67VtQbxdfLNo2Z8ItxADs_SHzOugrU#scrollTo=OYjmXH1EbAvI"
      ]
    },
    {
      "cell_type": "markdown",
      "metadata": {
        "id": "I0uFZGnza6xV"
      },
      "source": [
        "**Food Dataset** - https://www.vision.ee.ethz.ch/datasets_extra/food-101/"
      ]
    },
    {
      "cell_type": "markdown",
      "metadata": {
        "id": "mV1BvvikcH0o"
      },
      "source": [
        "## 참고자료\n",
        "\n",
        "https://colab.research.google.com/drive/1bO5c3wT9M84H-Y2a7saaBArPXF6ii4v8#scrollTo=7wJ_OH1DQyrd"
      ]
    },
    {
      "cell_type": "code",
      "metadata": {
        "id": "UiF0dszwvCkc"
      },
      "source": [
        "# Google Colab 재시작\n",
        "!kill -9 -1"
      ],
      "execution_count": null,
      "outputs": []
    },
    {
      "cell_type": "markdown",
      "metadata": {
        "id": "R9mbfFJabDZw"
      },
      "source": [
        "## 데이터세트 다운로드"
      ]
    },
    {
      "cell_type": "code",
      "metadata": {
        "id": "jz5GmUZTbTup"
      },
      "source": [
        "from __future__ import absolute_import, division, print_function\n",
        "\n",
        "import tensorflow as tf\n",
        "\n",
        "import tensorflow.keras.backend as K\n",
        "from tensorflow.keras.models import load_model\n",
        "from tensorflow.keras.preprocessing import image\n",
        "from tensorflow.keras import regularizers\n",
        "from tensorflow.keras.applications.inception_v3 import InceptionV3\n",
        "from tensorflow.keras.models import Model\n",
        "from tensorflow.keras.layers import Dense, Dropout\n",
        "from tensorflow.keras.layers import GlobalAveragePooling2D\n",
        "from tensorflow.keras.preprocessing.image import ImageDataGenerator\n",
        "from tensorflow.keras.callbacks import ModelCheckpoint, CSVLogger\n",
        "from tensorflow.keras.optimizers import SGD\n",
        "from tensorflow.keras.regularizers import l2\n",
        "\n",
        "from tensorflow import keras\n",
        "from tensorflow.keras import models\n",
        "from tensorflow.keras.applications.inception_v3 import preprocess_input\n",
        "\n",
        "import cv2\n",
        "import os\n",
        "import random\n",
        "import collections\n",
        "from collections import defaultdict\n",
        "\n",
        "from shutil import copy\n",
        "from shutil import copytree, rmtree\n",
        "\n",
        "import numpy as np\n",
        "\n",
        "import matplotlib.pyplot as plt\n",
        "import matplotlib.image as img\n",
        "%matplotlib inline"
      ],
      "execution_count": 2,
      "outputs": []
    },
    {
      "cell_type": "code",
      "metadata": {
        "colab": {
          "base_uri": "https://localhost:8080/"
        },
        "id": "JpXANsscbVNx",
        "outputId": "ba858128-fc56-4649-af51-5b4f43502cde"
      },
      "source": [
        "# Check TF version and whether GPU is enabled\n",
        "print(tf.__version__)\n",
        "print(tf.test.gpu_device_name())"
      ],
      "execution_count": 3,
      "outputs": [
        {
          "output_type": "stream",
          "text": [
            "2.4.1\n",
            "/device:GPU:0\n"
          ],
          "name": "stdout"
        }
      ]
    },
    {
      "cell_type": "markdown",
      "metadata": {
        "id": "vaB5TjXUbwcv"
      },
      "source": [
        "- 데이터를 다운로드한다."
      ]
    },
    {
      "cell_type": "code",
      "metadata": {
        "colab": {
          "base_uri": "https://localhost:8080/"
        },
        "id": "U96sNUE5byhZ",
        "outputId": "c5557ecc-1c48-4aa1-cbde-adb6ab8e3814"
      },
      "source": [
        "# Helper function to download data and extract\n",
        "\n",
        "def get_data_extract():\n",
        "  if \"food-101\" in os.listdir():\n",
        "    print(\"Dataset already exists\")\n",
        "  else:\n",
        "    tf.keras.utils.get_file(\n",
        "    'food-101.tar.gz',\n",
        "    'http://data.vision.ee.ethz.ch/cvl/food-101.tar.gz',\n",
        "    cache_subdir='/content',\n",
        "    extract=True,\n",
        "    archive_format='tar',\n",
        "    cache_dir=None\n",
        "    )\n",
        "    print(\"Dataset downloaded and extracted!\")\n",
        "\n",
        "# Download data and extract it to folder\n",
        "get_data_extract()"
      ],
      "execution_count": 4,
      "outputs": [
        {
          "output_type": "stream",
          "text": [
            "Downloading data from http://data.vision.ee.ethz.ch/cvl/food-101.tar.gz\n",
            "4996284416/4996278331 [==============================] - 160s 0us/step\n",
            "Dataset downloaded and extracted!\n"
          ],
          "name": "stdout"
        }
      ]
    },
    {
      "cell_type": "markdown",
      "metadata": {
        "id": "2NOPxdnucB0I"
      },
      "source": [
        "## 데이터세트 구성 확인"
      ]
    },
    {
      "cell_type": "markdown",
      "metadata": {
        "id": "idMhrLGOcZHX"
      },
      "source": [
        "다운받은 데이터세트의 디렉토리 구성을 확인한다."
      ]
    },
    {
      "cell_type": "code",
      "metadata": {
        "colab": {
          "base_uri": "https://localhost:8080/"
        },
        "id": "432d8EdGcCE_",
        "outputId": "0389f42c-57ca-4e70-b7c5-92dcf578caaa"
      },
      "source": [
        "# Check the extracted dataset folder\n",
        "os.listdir('food-101/')"
      ],
      "execution_count": 5,
      "outputs": [
        {
          "output_type": "execute_result",
          "data": {
            "text/plain": [
              "['license_agreement.txt', 'meta', 'README.txt', 'images']"
            ]
          },
          "metadata": {
            "tags": []
          },
          "execution_count": 5
        }
      ]
    },
    {
      "cell_type": "code",
      "metadata": {
        "colab": {
          "base_uri": "https://localhost:8080/"
        },
        "id": "p34FHLDQcUoo",
        "outputId": "387f2f95-7b94-4ade-830e-30a21583fbf5"
      },
      "source": [
        "os.listdir('food-101/images')"
      ],
      "execution_count": 54,
      "outputs": [
        {
          "output_type": "execute_result",
          "data": {
            "text/plain": [
              "['nachos',\n",
              " 'takoyaki',\n",
              " 'falafel',\n",
              " 'seaweed_salad',\n",
              " 'churros',\n",
              " 'foie_gras',\n",
              " 'eggs_benedict',\n",
              " 'baby_back_ribs',\n",
              " 'deviled_eggs',\n",
              " 'oysters',\n",
              " 'french_toast',\n",
              " 'tuna_tartare',\n",
              " 'steak',\n",
              " 'tacos',\n",
              " 'sashimi',\n",
              " 'pancakes',\n",
              " 'lobster_roll_sandwich',\n",
              " 'hot_dog',\n",
              " 'club_sandwich',\n",
              " 'prime_rib',\n",
              " 'ceviche',\n",
              " 'hot_and_sour_soup',\n",
              " 'bread_pudding',\n",
              " 'fish_and_chips',\n",
              " 'mussels',\n",
              " 'huevos_rancheros',\n",
              " 'greek_salad',\n",
              " 'scallops',\n",
              " 'ravioli',\n",
              " 'paella',\n",
              " 'beignets',\n",
              " 'caprese_salad',\n",
              " 'gyoza',\n",
              " 'cheesecake',\n",
              " 'chicken_quesadilla',\n",
              " 'macarons',\n",
              " 'apple_pie',\n",
              " 'pulled_pork_sandwich',\n",
              " 'baklava',\n",
              " 'bruschetta',\n",
              " 'samosa',\n",
              " 'shrimp_and_grits',\n",
              " 'french_fries',\n",
              " 'spring_rolls',\n",
              " 'cheese_plate',\n",
              " 'french_onion_soup',\n",
              " 'dumplings',\n",
              " 'cup_cakes',\n",
              " 'tiramisu',\n",
              " 'grilled_cheese_sandwich',\n",
              " 'ice_cream',\n",
              " 'chicken_curry',\n",
              " 'cannoli',\n",
              " 'spaghetti_bolognese',\n",
              " 'sushi',\n",
              " 'poutine',\n",
              " 'spaghetti_carbonara',\n",
              " 'fried_calamari',\n",
              " 'filet_mignon',\n",
              " 'red_velvet_cake',\n",
              " 'caesar_salad',\n",
              " 'carrot_cake',\n",
              " 'chicken_wings',\n",
              " 'chocolate_cake',\n",
              " 'fried_rice',\n",
              " 'croque_madame',\n",
              " 'edamame',\n",
              " 'lasagna',\n",
              " 'chocolate_mousse',\n",
              " 'lobster_bisque',\n",
              " 'risotto',\n",
              " 'miso_soup',\n",
              " 'strawberry_shortcake',\n",
              " 'macaroni_and_cheese',\n",
              " 'escargots',\n",
              " 'breakfast_burrito',\n",
              " 'panna_cotta',\n",
              " 'clam_chowder',\n",
              " 'onion_rings',\n",
              " 'beef_tartare',\n",
              " 'frozen_yogurt',\n",
              " 'beef_carpaccio',\n",
              " 'bibimbap',\n",
              " 'omelette',\n",
              " 'pizza',\n",
              " 'crab_cakes',\n",
              " 'creme_brulee',\n",
              " 'peking_duck',\n",
              " 'hummus',\n",
              " 'garlic_bread',\n",
              " 'pho',\n",
              " 'pad_thai',\n",
              " 'hamburger',\n",
              " 'waffles',\n",
              " 'gnocchi',\n",
              " 'grilled_salmon',\n",
              " 'pork_chop',\n",
              " 'guacamole',\n",
              " 'ramen',\n",
              " 'beet_salad',\n",
              " 'donuts']"
            ]
          },
          "metadata": {
            "tags": []
          },
          "execution_count": 54
        }
      ]
    },
    {
      "cell_type": "code",
      "metadata": {
        "colab": {
          "base_uri": "https://localhost:8080/"
        },
        "id": "XiJe3XGKcdQ_",
        "outputId": "34d2b0ce-7a39-4dec-a111-1d83d208005b"
      },
      "source": [
        "os.listdir('food-101/meta')"
      ],
      "execution_count": 7,
      "outputs": [
        {
          "output_type": "execute_result",
          "data": {
            "text/plain": [
              "['train.json',\n",
              " 'train.txt',\n",
              " 'classes.txt',\n",
              " 'test.txt',\n",
              " 'test.json',\n",
              " 'labels.txt']"
            ]
          },
          "metadata": {
            "tags": []
          },
          "execution_count": 7
        }
      ]
    },
    {
      "cell_type": "markdown",
      "metadata": {
        "id": "RMllA5XccllX"
      },
      "source": [
        "## 랜덤 이미지 시각화"
      ]
    },
    {
      "cell_type": "code",
      "metadata": {
        "id": "Dz0KMgC5cpog"
      },
      "source": [
        "# Visualize the data, showing one image per class from 101 classes\n",
        "rows = 17\n",
        "cols = 6\n",
        "fig, ax = plt.subplots(rows, cols, figsize=(25,25))\n",
        "fig.suptitle(\"Showing one random image from each class\", y=1.05, fontsize=24) # Adding  y=1.05, fontsize=24 helped me fix the suptitle overlapping with axes issue\n",
        "data_dir = \"food-101/images/\"\n",
        "foods_sorted = sorted(os.listdir(data_dir))\n",
        "food_id = 0\n",
        "for i in range(rows):\n",
        "  for j in range(cols):\n",
        "    try:\n",
        "      food_selected = foods_sorted[food_id] \n",
        "      food_id += 1\n",
        "    except:\n",
        "      break\n",
        "    food_selected_images = os.listdir(os.path.join(data_dir,food_selected)) # returns the list of all files present in each food category\n",
        "    food_selected_random = np.random.choice(food_selected_images) # picks one food item from the list as choice, takes a list and returns one random item\n",
        "    img = plt.imread(os.path.join(data_dir,food_selected, food_selected_random))\n",
        "    ax[i][j].imshow(img)\n",
        "    ax[i][j].set_title(food_selected, pad = 10)\n",
        "    \n",
        "plt.setp(ax, xticks=[],yticks=[])\n",
        "plt.tight_layout()\n",
        "# https://matplotlib.org/users/tight_layout_guide.html"
      ],
      "execution_count": null,
      "outputs": []
    },
    {
      "cell_type": "markdown",
      "metadata": {
        "id": "g4O5Wutxcspn"
      },
      "source": [
        "## 이미지를 훈련용과 테스트용으로 분류"
      ]
    },
    {
      "cell_type": "code",
      "metadata": {
        "id": "Ni75AEPNizdq"
      },
      "source": [
        "# Helper method to split dataset into train and test folders\n",
        "def prepare_data(filepath, src,dest):\n",
        "  classes_images = defaultdict(list)\n",
        "  with open(filepath, 'r') as txt:\n",
        "      paths = [read.strip() for read in txt.readlines()]\n",
        "      for p in paths:\n",
        "        food = p.split('/')\n",
        "        classes_images[food[0]].append(food[1] + '.jpg')\n",
        "\n",
        "  for food in classes_images.keys():\n",
        "    print(\"\\nCopying images into \",food)\n",
        "    if not os.path.exists(os.path.join(dest,food)):\n",
        "      os.makedirs(os.path.join(dest,food))\n",
        "    for i in classes_images[food]:\n",
        "      copy(os.path.join(src,food,i), os.path.join(dest,food,i))\n",
        "  print(\"Copying Done!\")"
      ],
      "execution_count": 9,
      "outputs": []
    },
    {
      "cell_type": "markdown",
      "metadata": {
        "id": "iYTibcU0jyJp"
      },
      "source": [
        "meta 폴더 안에 있는 `train.txt`, `test.txt` 를 참고하여 데이터세트를 분류한다."
      ]
    },
    {
      "cell_type": "code",
      "metadata": {
        "id": "dvZR06zMi1ly"
      },
      "source": [
        "# Prepare train dataset by copying images from food-101/images to food-101/train using the file train.txt\n",
        "print(\"Creating train data...\")\n",
        "prepare_data('food-101/meta/train.txt', 'food-101/images', 'food-101/train')"
      ],
      "execution_count": null,
      "outputs": []
    },
    {
      "cell_type": "code",
      "metadata": {
        "id": "lr_b3MWoi7ca"
      },
      "source": [
        "# Prepare test data by copying images from food-101/images to food-101/test using the file test.txt\n",
        "print(\"Creating test data...\")\n",
        "prepare_data('food-101/meta/test.txt', 'food-101/images', 'food-101/test')"
      ],
      "execution_count": null,
      "outputs": []
    },
    {
      "cell_type": "markdown",
      "metadata": {
        "id": "cbKkcNFOj8qJ"
      },
      "source": [
        "폴더에 분류가 잘 되었는지 개수를 확인한다."
      ]
    },
    {
      "cell_type": "code",
      "metadata": {
        "colab": {
          "base_uri": "https://localhost:8080/"
        },
        "id": "1r41XF6nj_VM",
        "outputId": "3e31eae6-21d8-4c27-e440-fa33531b7055"
      },
      "source": [
        "# Check how many files are in the train folder\n",
        "\n",
        "train_files = sum([len(files) for i, j, files in os.walk(\"food-101/train\")])\n",
        "print(\"Total number of samples in train folder\")\n",
        "print(train_files)"
      ],
      "execution_count": 12,
      "outputs": [
        {
          "output_type": "stream",
          "text": [
            "Total number of samples in train folder\n",
            "75750\n"
          ],
          "name": "stdout"
        }
      ]
    },
    {
      "cell_type": "code",
      "metadata": {
        "colab": {
          "base_uri": "https://localhost:8080/"
        },
        "id": "DVigo8QakAbR",
        "outputId": "36817919-1713-4042-d739-2a542ad4a48b"
      },
      "source": [
        "# Check how many files are in the test folder\n",
        "test_files = sum([len(files) for i, j, files in os.walk(\"food-101/test\")])\n",
        "print(\"Total number of samples in test folder\")\n",
        "print(test_files)"
      ],
      "execution_count": 13,
      "outputs": [
        {
          "output_type": "stream",
          "text": [
            "Total number of samples in test folder\n",
            "25250\n"
          ],
          "name": "stdout"
        }
      ]
    },
    {
      "cell_type": "markdown",
      "metadata": {
        "id": "_C0_mPWOm9-w"
      },
      "source": [
        "# 3가지 음식 이미지 분류 모델"
      ]
    },
    {
      "cell_type": "markdown",
      "metadata": {
        "id": "ajpqsQAW9TpL"
      },
      "source": [
        "이 챕터에서는 사모사, 피자, 오믈렛을 분류하는 모델을 훈련한다.\n",
        "\n",
        "전체적인 코드가 잘 작동하는지 확인하기 위함이기에, 사전에 문제가 없다고 검증이 끝났다면 바로 다음 챕터로 넘어가도 된다."
      ]
    },
    {
      "cell_type": "markdown",
      "metadata": {
        "id": "gnE0Q58L84U1"
      },
      "source": [
        "## 3가지 음식이 포함된 학습 및 테스트 데이터세트 만들기"
      ]
    },
    {
      "cell_type": "code",
      "metadata": {
        "colab": {
          "base_uri": "https://localhost:8080/"
        },
        "id": "WhQs6UxgmDAY",
        "outputId": "33c9b1a2-f2cf-4c2c-82e7-73e4121f25d0"
      },
      "source": [
        "# List of all 101 types of foods(sorted alphabetically)\n",
        "foods_sorted"
      ],
      "execution_count": 55,
      "outputs": [
        {
          "output_type": "execute_result",
          "data": {
            "text/plain": [
              "['apple_pie',\n",
              " 'baby_back_ribs',\n",
              " 'baklava',\n",
              " 'beef_carpaccio',\n",
              " 'beef_tartare',\n",
              " 'beet_salad',\n",
              " 'beignets',\n",
              " 'bibimbap',\n",
              " 'bread_pudding',\n",
              " 'breakfast_burrito',\n",
              " 'bruschetta',\n",
              " 'caesar_salad',\n",
              " 'cannoli',\n",
              " 'caprese_salad',\n",
              " 'carrot_cake',\n",
              " 'ceviche',\n",
              " 'cheese_plate',\n",
              " 'cheesecake',\n",
              " 'chicken_curry',\n",
              " 'chicken_quesadilla',\n",
              " 'chicken_wings',\n",
              " 'chocolate_cake',\n",
              " 'chocolate_mousse',\n",
              " 'churros',\n",
              " 'clam_chowder',\n",
              " 'club_sandwich',\n",
              " 'crab_cakes',\n",
              " 'creme_brulee',\n",
              " 'croque_madame',\n",
              " 'cup_cakes',\n",
              " 'deviled_eggs',\n",
              " 'donuts',\n",
              " 'dumplings',\n",
              " 'edamame',\n",
              " 'eggs_benedict',\n",
              " 'escargots',\n",
              " 'falafel',\n",
              " 'filet_mignon',\n",
              " 'fish_and_chips',\n",
              " 'foie_gras',\n",
              " 'french_fries',\n",
              " 'french_onion_soup',\n",
              " 'french_toast',\n",
              " 'fried_calamari',\n",
              " 'fried_rice',\n",
              " 'frozen_yogurt',\n",
              " 'garlic_bread',\n",
              " 'gnocchi',\n",
              " 'greek_salad',\n",
              " 'grilled_cheese_sandwich',\n",
              " 'grilled_salmon',\n",
              " 'guacamole',\n",
              " 'gyoza',\n",
              " 'hamburger',\n",
              " 'hot_and_sour_soup',\n",
              " 'hot_dog',\n",
              " 'huevos_rancheros',\n",
              " 'hummus',\n",
              " 'ice_cream',\n",
              " 'lasagna',\n",
              " 'lobster_bisque',\n",
              " 'lobster_roll_sandwich',\n",
              " 'macaroni_and_cheese',\n",
              " 'macarons',\n",
              " 'miso_soup',\n",
              " 'mussels',\n",
              " 'nachos',\n",
              " 'omelette',\n",
              " 'onion_rings',\n",
              " 'oysters',\n",
              " 'pad_thai',\n",
              " 'paella',\n",
              " 'pancakes',\n",
              " 'panna_cotta',\n",
              " 'peking_duck',\n",
              " 'pho',\n",
              " 'pizza',\n",
              " 'pork_chop',\n",
              " 'poutine',\n",
              " 'prime_rib',\n",
              " 'pulled_pork_sandwich',\n",
              " 'ramen',\n",
              " 'ravioli',\n",
              " 'red_velvet_cake',\n",
              " 'risotto',\n",
              " 'samosa',\n",
              " 'sashimi',\n",
              " 'scallops',\n",
              " 'seaweed_salad',\n",
              " 'shrimp_and_grits',\n",
              " 'spaghetti_bolognese',\n",
              " 'spaghetti_carbonara',\n",
              " 'spring_rolls',\n",
              " 'steak',\n",
              " 'strawberry_shortcake',\n",
              " 'sushi',\n",
              " 'tacos',\n",
              " 'takoyaki',\n",
              " 'tiramisu',\n",
              " 'tuna_tartare',\n",
              " 'waffles']"
            ]
          },
          "metadata": {
            "tags": []
          },
          "execution_count": 55
        }
      ]
    },
    {
      "cell_type": "code",
      "metadata": {
        "id": "4JVBBN2em-0f"
      },
      "source": [
        "# Helper method to create train_mini and test_mini data samples\n",
        "def dataset_mini(food_list, src, dest):\n",
        "  if os.path.exists(dest):\n",
        "    rmtree(dest) # removing dataset_mini(if it already exists) folders so that we will have only the classes that we want\n",
        "  os.makedirs(dest)\n",
        "  for food_item in food_list :\n",
        "    print(\"Copying images into\",food_item)\n",
        "    copytree(os.path.join(src,food_item), os.path.join(dest,food_item))"
      ],
      "execution_count": 15,
      "outputs": []
    },
    {
      "cell_type": "markdown",
      "metadata": {
        "id": "pwOt674sn8lV"
      },
      "source": [
        "선정된 음식파일은 각각 `train_mini`, `test_mini` 에 저장한다."
      ]
    },
    {
      "cell_type": "code",
      "metadata": {
        "id": "rJVKU_sanAuV"
      },
      "source": [
        "# picking 3 food items and generating separate data folders for the same\n",
        "food_list = ['samosa','pizza','omelette']\n",
        "src_train = 'food-101/train'\n",
        "dest_train = 'food-101/train_mini'\n",
        "src_test = 'food-101/test'\n",
        "dest_test = 'food-101/test_mini'"
      ],
      "execution_count": 16,
      "outputs": []
    },
    {
      "cell_type": "markdown",
      "metadata": {
        "id": "n6yRY5NPoNm1"
      },
      "source": [
        "데이터세트를 저장하고 개수를 확인한다."
      ]
    },
    {
      "cell_type": "code",
      "metadata": {
        "colab": {
          "base_uri": "https://localhost:8080/"
        },
        "id": "vNGgzG5qnCM2",
        "outputId": "06d163c6-3d79-43a0-e9f1-4dc29b5b7ade"
      },
      "source": [
        "print(\"Creating train data folder with new classes\")\n",
        "dataset_mini(food_list, src_train, dest_train)"
      ],
      "execution_count": 17,
      "outputs": [
        {
          "output_type": "stream",
          "text": [
            "Creating train data folder with new classes\n",
            "Copying images into samosa\n",
            "Copying images into pizza\n",
            "Copying images into omelette\n"
          ],
          "name": "stdout"
        }
      ]
    },
    {
      "cell_type": "code",
      "metadata": {
        "colab": {
          "base_uri": "https://localhost:8080/"
        },
        "id": "JV7m3996nqYV",
        "outputId": "ec30012a-f5ac-4f77-dfd0-8a338acc8e34"
      },
      "source": [
        "print(\"Total number of samples in train folder\")\n",
        "train_files = sum([len(files) for i, j, files in os.walk(\"food-101/train_mini\")])\n",
        "print(train_files)"
      ],
      "execution_count": 18,
      "outputs": [
        {
          "output_type": "stream",
          "text": [
            "Total number of samples in train folder\n",
            "2250\n"
          ],
          "name": "stdout"
        }
      ]
    },
    {
      "cell_type": "code",
      "metadata": {
        "colab": {
          "base_uri": "https://localhost:8080/"
        },
        "id": "GEztmemnnq9N",
        "outputId": "ed8617f7-c6f9-4320-d5e0-883eeb5bab43"
      },
      "source": [
        "print(\"Creating test data folder with new classes\")\n",
        "dataset_mini(food_list, src_test, dest_test)"
      ],
      "execution_count": 19,
      "outputs": [
        {
          "output_type": "stream",
          "text": [
            "Creating test data folder with new classes\n",
            "Copying images into samosa\n",
            "Copying images into pizza\n",
            "Copying images into omelette\n"
          ],
          "name": "stdout"
        }
      ]
    },
    {
      "cell_type": "code",
      "metadata": {
        "colab": {
          "base_uri": "https://localhost:8080/"
        },
        "id": "7ios3jz6nrXW",
        "outputId": "3265d28b-6fde-435d-da91-8fb84659a5b6"
      },
      "source": [
        "print(\"Total number of samples in test folder\")\n",
        "test_files = sum([len(files) for i, j, files in os.walk(\"food-101/test_mini\")])\n",
        "print(test_files)"
      ],
      "execution_count": 20,
      "outputs": [
        {
          "output_type": "stream",
          "text": [
            "Total number of samples in test folder\n",
            "750\n"
          ],
          "name": "stdout"
        }
      ]
    },
    {
      "cell_type": "markdown",
      "metadata": {
        "id": "RHKHHnoIody9"
      },
      "source": [
        "## 분류한 데이터세트로 Inception 모델 미세조정"
      ]
    },
    {
      "cell_type": "code",
      "metadata": {
        "id": "Z11XBU84okLH"
      },
      "source": [
        "def train_model(n_classes,num_epochs, nb_train_samples,nb_validation_samples):\n",
        "  K.clear_session()\n",
        "\n",
        "  img_width, img_height = 299, 299\n",
        "  train_data_dir = 'food-101/train_mini'\n",
        "  validation_data_dir = 'food-101/test_mini'\n",
        "  batch_size = 16\n",
        "  bestmodel_path = 'bestmodel_'+str(n_classes)+'class.hdf5'\n",
        "  trainedmodel_path = 'trainedmodel_'+str(n_classes)+'class.hdf5'\n",
        "  history_path = 'history_'+str(n_classes)+'.log'\n",
        "\n",
        "  train_datagen = ImageDataGenerator(\n",
        "      preprocessing_function=preprocess_input,\n",
        "      shear_range=0.2,\n",
        "      zoom_range=0.2,\n",
        "      horizontal_flip=True)\n",
        "\n",
        "  test_datagen = ImageDataGenerator(preprocessing_function=preprocess_input)\n",
        "\n",
        "  train_generator = train_datagen.flow_from_directory(\n",
        "      train_data_dir,\n",
        "      target_size=(img_height, img_width),\n",
        "      batch_size=batch_size,\n",
        "      class_mode='categorical')\n",
        "\n",
        "  validation_generator = test_datagen.flow_from_directory(\n",
        "      validation_data_dir,\n",
        "      target_size=(img_height, img_width),\n",
        "      batch_size=batch_size,\n",
        "      class_mode='categorical')\n",
        "\n",
        "\n",
        "  inception = InceptionV3(weights='imagenet', include_top=False)\n",
        "  x = inception.output\n",
        "  x = GlobalAveragePooling2D()(x)\n",
        "  x = Dense(128,activation='relu')(x)\n",
        "  x = Dropout(0.2)(x)\n",
        "\n",
        "  predictions = Dense(n_classes,kernel_regularizer=regularizers.l2(0.005), activation='softmax')(x)\n",
        "\n",
        "  model = Model(inputs=inception.input, outputs=predictions)\n",
        "  model.compile(optimizer=SGD(lr=0.0001, momentum=0.9), loss='categorical_crossentropy', metrics=['accuracy'])\n",
        "  checkpoint = ModelCheckpoint(filepath=bestmodel_path, verbose=1, save_best_only=True)\n",
        "  csv_logger = CSVLogger(history_path)\n",
        "\n",
        "  history = model.fit_generator(train_generator,\n",
        "                      steps_per_epoch = nb_train_samples // batch_size,\n",
        "                      validation_data=validation_generator,\n",
        "                      validation_steps=nb_validation_samples // batch_size,\n",
        "                      epochs=num_epochs,\n",
        "                      verbose=1,\n",
        "                      callbacks=[csv_logger, checkpoint])\n",
        "\n",
        "  model.save(trainedmodel_path)\n",
        "  class_map = train_generator.class_indices\n",
        "  return history, class_map"
      ],
      "execution_count": 21,
      "outputs": []
    },
    {
      "cell_type": "code",
      "metadata": {
        "id": "ojWqVVKlorEV"
      },
      "source": [
        "# Train the model with data from 3 classes\n",
        "n_classes = 3\n",
        "epochs = 5\n",
        "nb_train_samples = train_files\n",
        "nb_validation_samples = test_files\n",
        "\n",
        "history, class_map_3 = train_model(n_classes,epochs, nb_train_samples,nb_validation_samples)\n",
        "print(class_map_3)"
      ],
      "execution_count": null,
      "outputs": []
    },
    {
      "cell_type": "markdown",
      "metadata": {
        "id": "w2e-Ol7Su9iA"
      },
      "source": [
        "## 정확도(accuracy)와 손실값(loss)를 시각화한다."
      ]
    },
    {
      "cell_type": "code",
      "metadata": {
        "id": "Jv7-OqTZvE32"
      },
      "source": [
        "def plot_accuracy(history,title):\n",
        "    plt.title(title)\n",
        "    plt.plot(history.history['accuracy']) # change acc to accuracy if testing TF 2.0\n",
        "    plt.plot(history.history['val_accuracy']) # change val_accuracy if testing TF 2.0\n",
        "    plt.ylabel('accuracy')\n",
        "    plt.xlabel('epoch')\n",
        "    plt.legend(['train_accuracy', 'validation_accuracy'], loc='best')\n",
        "    plt.show()\n",
        "\n",
        "\n",
        "def plot_loss(history,title):\n",
        "    plt.title(title)\n",
        "    plt.plot(history.history['loss'])\n",
        "    plt.plot(history.history['val_loss'])\n",
        "    plt.ylabel('loss')\n",
        "    plt.xlabel('epoch')\n",
        "    plt.legend(['train_loss', 'validation_loss'], loc='best')\n",
        "    plt.show()\n",
        "\n",
        "\n",
        "plot_accuracy(history,'FOOD101-Inceptionv3')\n",
        "plot_loss(history,'FOOD101-Inceptionv3')"
      ],
      "execution_count": null,
      "outputs": []
    },
    {
      "cell_type": "markdown",
      "metadata": {
        "id": "lks3uwNpvI4X"
      },
      "source": [
        "## 훈련된 모델로 음식 이미지를 예측"
      ]
    },
    {
      "cell_type": "code",
      "metadata": {
        "colab": {
          "base_uri": "https://localhost:8080/"
        },
        "id": "73MLZW9tvNnv",
        "outputId": "d1a8841c-ef35-4658-f283-8c23711e8208"
      },
      "source": [
        "%%time\n",
        "# Loading the best saved model to make predictions\n",
        "\n",
        "K.clear_session()\n",
        "model_best = load_model('bestmodel_3class.hdf5',compile = False)"
      ],
      "execution_count": 26,
      "outputs": [
        {
          "output_type": "stream",
          "text": [
            "CPU times: user 2.06 s, sys: 75.1 ms, total: 2.14 s\n",
            "Wall time: 2.11 s\n"
          ],
          "name": "stdout"
        }
      ]
    },
    {
      "cell_type": "code",
      "metadata": {
        "id": "gmkqJxpqvQPP"
      },
      "source": [
        "def predict_class(model, images, show = True):\n",
        "  for img in images:\n",
        "    img = image.load_img(img, target_size=(299, 299))\n",
        "    img = image.img_to_array(img)                    \n",
        "    img = np.expand_dims(img, axis=0)         \n",
        "    img = preprocess_input(img)                                      \n",
        "\n",
        "    pred = model.predict(img)\n",
        "    index = np.argmax(pred)\n",
        "    food_list.sort()\n",
        "    pred_value = food_list[index]\n",
        "    #print(pred)\n",
        "    if show:\n",
        "        plt.imshow(img[0])                           \n",
        "        plt.axis('off')\n",
        "        plt.title(pred_value)\n",
        "        plt.show()"
      ],
      "execution_count": 27,
      "outputs": []
    },
    {
      "cell_type": "code",
      "metadata": {
        "id": "sgycjjk-vShP"
      },
      "source": [
        "# Make a list of images and test the trained model\n",
        "images = []\n",
        "imagepath = '/content/food-101/test_mini/'\n",
        "images.append(imagepath+'samosa/144404.jpg')\n",
        "images.append(imagepath+'pizza/11297.jpg')\n",
        "images.append(imagepath+'omelette/1145379.jpg')\n",
        "predict_class(model_best, images, True)"
      ],
      "execution_count": null,
      "outputs": []
    },
    {
      "cell_type": "markdown",
      "metadata": {
        "id": "jlx5fYSK9Pc7"
      },
      "source": [
        "# 전체 음식 이미지 분류 모델"
      ]
    },
    {
      "cell_type": "markdown",
      "metadata": {
        "id": "YclwqBMZ9R66"
      },
      "source": [
        "이 챕터에서는 `food-101` 리스트에 있는 모든 음식 이미지를 분류하는 모델을 훈련한다.\n",
        "\n",
        "이전 챕터에서 이미 훈련용, 테스트용으로 분류했기 때문에 데이터세트 분류 작업은 넘어간다."
      ]
    },
    {
      "cell_type": "markdown",
      "metadata": {
        "id": "_eqvXkz39gY6"
      },
      "source": [
        "## 분류한 데이터세트로 Inception 모델 미세조정"
      ]
    },
    {
      "cell_type": "markdown",
      "metadata": {
        "id": "B0GoP2zWEo6l"
      },
      "source": [
        "먼저 전체 데이터세트 내용을 다시 확인한다."
      ]
    },
    {
      "cell_type": "code",
      "metadata": {
        "colab": {
          "base_uri": "https://localhost:8080/"
        },
        "id": "C8BuXYFhEwF7",
        "outputId": "e2b9d9b1-44c6-487c-f1e9-850b5a489167"
      },
      "source": [
        "# Check how many files are in the train folder\n",
        "\n",
        "train_files = sum([len(files) for i, j, files in os.walk(\"food-101/train\")])\n",
        "print(\"Total number of samples in train folder\")\n",
        "print(train_files)"
      ],
      "execution_count": 33,
      "outputs": [
        {
          "output_type": "stream",
          "text": [
            "Total number of samples in train folder\n",
            "75750\n"
          ],
          "name": "stdout"
        }
      ]
    },
    {
      "cell_type": "code",
      "metadata": {
        "colab": {
          "base_uri": "https://localhost:8080/"
        },
        "id": "t-Ec55RWEwpE",
        "outputId": "1f105350-d657-4483-f25b-978386834f36"
      },
      "source": [
        "# Check how many files are in the test folder\n",
        "test_files = sum([len(files) for i, j, files in os.walk(\"food-101/test\")])\n",
        "print(\"Total number of samples in test folder\")\n",
        "print(test_files)"
      ],
      "execution_count": 34,
      "outputs": [
        {
          "output_type": "stream",
          "text": [
            "Total number of samples in test folder\n",
            "25250\n"
          ],
          "name": "stdout"
        }
      ]
    },
    {
      "cell_type": "markdown",
      "metadata": {
        "id": "czzt3RBgEzV0"
      },
      "source": [
        "다음 적절한 학습함수를 설정하고 모델을 훈련한다.\n",
        "\n",
        "필자는 `batch_size` 를 32, `epochs` 를 20으로 설정했다."
      ]
    },
    {
      "cell_type": "code",
      "metadata": {
        "id": "9e7H36bo98RN"
      },
      "source": [
        "def train_model(n_classes,num_epochs, nb_train_samples,nb_validation_samples):\n",
        "  K.clear_session()\n",
        "\n",
        "  img_width, img_height = 299, 299\n",
        "  train_data_dir = 'food-101/train'\n",
        "  validation_data_dir = 'food-101/test'\n",
        "  batch_size = 16\n",
        "  bestmodel_path = 'bestmodel_'+str(n_classes)+'class.hdf5'\n",
        "  trainedmodel_path = 'trainedmodel_'+str(n_classes)+'class.hdf5'\n",
        "  history_path = 'history_'+str(n_classes)+'.log'\n",
        "\n",
        "  train_datagen = ImageDataGenerator(\n",
        "      preprocessing_function=preprocess_input,\n",
        "      shear_range=0.2,\n",
        "      zoom_range=0.2,\n",
        "      horizontal_flip=True)\n",
        "\n",
        "  test_datagen = ImageDataGenerator(preprocessing_function=preprocess_input)\n",
        "\n",
        "  train_generator = train_datagen.flow_from_directory(\n",
        "      train_data_dir,\n",
        "      target_size=(img_height, img_width),\n",
        "      batch_size=batch_size,\n",
        "      class_mode='categorical')\n",
        "\n",
        "  validation_generator = test_datagen.flow_from_directory(\n",
        "      validation_data_dir,\n",
        "      target_size=(img_height, img_width),\n",
        "      batch_size=batch_size,\n",
        "      class_mode='categorical')\n",
        "\n",
        "\n",
        "  inception = InceptionV3(weights='imagenet', include_top=False)\n",
        "  x = inception.output\n",
        "  x = GlobalAveragePooling2D()(x)\n",
        "  x = Dense(128,activation='relu')(x)\n",
        "  x = Dropout(0.2)(x)\n",
        "\n",
        "  predictions = Dense(n_classes,kernel_regularizer=regularizers.l2(0.005), activation='softmax')(x)\n",
        "\n",
        "  model = Model(inputs=inception.input, outputs=predictions)\n",
        "  model.compile(optimizer=SGD(lr=0.0001, momentum=0.9), loss='categorical_crossentropy', metrics=['accuracy'])\n",
        "  checkpoint = ModelCheckpoint(filepath=bestmodel_path, verbose=1, save_best_only=True)\n",
        "  csv_logger = CSVLogger(history_path)\n",
        "\n",
        "  history = model.fit_generator(train_generator,\n",
        "                      steps_per_epoch = nb_train_samples // batch_size,\n",
        "                      validation_data=validation_generator,\n",
        "                      validation_steps=nb_validation_samples // batch_size,\n",
        "                      epochs=num_epochs,\n",
        "                      verbose=1,\n",
        "                      callbacks=[csv_logger, checkpoint])\n",
        "\n",
        "  model.save(trainedmodel_path)\n",
        "  class_map = train_generator.class_indices\n",
        "  return history, class_map"
      ],
      "execution_count": 42,
      "outputs": []
    },
    {
      "cell_type": "code",
      "metadata": {
        "colab": {
          "base_uri": "https://localhost:8080/"
        },
        "id": "VA_Sic_39_fi",
        "outputId": "1aae8f8e-e6cf-42e2-b0ee-464b28a04d2f"
      },
      "source": [
        "# Train the model with data from all(101) classes\n",
        "n_classes = len(foods_sorted)\n",
        "epochs = 20\n",
        "nb_train_samples = train_files\n",
        "nb_validation_samples = test_files\n",
        "\n",
        "history, class_map = train_model(n_classes,epochs, nb_train_samples,nb_validation_samples)\n",
        "print(class_map)"
      ],
      "execution_count": 43,
      "outputs": [
        {
          "output_type": "stream",
          "text": [
            "Found 75750 images belonging to 101 classes.\n",
            "Found 25250 images belonging to 101 classes.\n"
          ],
          "name": "stdout"
        },
        {
          "output_type": "stream",
          "text": [
            "/usr/local/lib/python3.7/dist-packages/tensorflow/python/keras/engine/training.py:1844: UserWarning: `Model.fit_generator` is deprecated and will be removed in a future version. Please use `Model.fit`, which supports generators.\n",
            "  warnings.warn('`Model.fit_generator` is deprecated and '\n"
          ],
          "name": "stderr"
        },
        {
          "output_type": "stream",
          "text": [
            "Epoch 1/10\n",
            "1183/1183 [==============================] - 1606s 1s/step - loss: 5.1986 - accuracy: 0.0144 - val_loss: 5.0381 - val_accuracy: 0.0449\n",
            "\n",
            "Epoch 00001: val_loss improved from inf to 5.03806, saving model to bestmodel_101class.hdf5\n",
            "Epoch 2/10\n",
            "1183/1183 [==============================] - 1599s 1s/step - loss: 5.0079 - accuracy: 0.0495 - val_loss: 4.6889 - val_accuracy: 0.1455\n",
            "\n",
            "Epoch 00002: val_loss improved from 5.03806 to 4.68892, saving model to bestmodel_101class.hdf5\n",
            "Epoch 3/10\n",
            "1183/1183 [==============================] - 1585s 1s/step - loss: 4.6646 - accuracy: 0.1264 - val_loss: 4.1266 - val_accuracy: 0.2688\n",
            "\n",
            "Epoch 00003: val_loss improved from 4.68892 to 4.12662, saving model to bestmodel_101class.hdf5\n",
            "Epoch 4/10\n",
            "1183/1183 [==============================] - 1587s 1s/step - loss: 4.2034 - accuracy: 0.2195 - val_loss: 3.5863 - val_accuracy: 0.3621\n",
            "\n",
            "Epoch 00004: val_loss improved from 4.12662 to 3.58633, saving model to bestmodel_101class.hdf5\n",
            "Epoch 5/10\n",
            "1183/1183 [==============================] - 1597s 1s/step - loss: 3.7782 - accuracy: 0.2933 - val_loss: 3.1324 - val_accuracy: 0.4333\n",
            "\n",
            "Epoch 00005: val_loss improved from 3.58633 to 3.13238, saving model to bestmodel_101class.hdf5\n",
            "Epoch 6/10\n",
            "1183/1183 [==============================] - 1590s 1s/step - loss: 3.3946 - accuracy: 0.3580 - val_loss: 2.7842 - val_accuracy: 0.4936\n",
            "\n",
            "Epoch 00006: val_loss improved from 3.13238 to 2.78425, saving model to bestmodel_101class.hdf5\n",
            "Epoch 7/10\n",
            "1183/1183 [==============================] - 1577s 1s/step - loss: 3.1137 - accuracy: 0.4043 - val_loss: 2.5312 - val_accuracy: 0.5360\n",
            "\n",
            "Epoch 00007: val_loss improved from 2.78425 to 2.53116, saving model to bestmodel_101class.hdf5\n",
            "Epoch 8/10\n",
            "1183/1183 [==============================] - 1584s 1s/step - loss: 2.8822 - accuracy: 0.4485 - val_loss: 2.3323 - val_accuracy: 0.5724\n",
            "\n",
            "Epoch 00008: val_loss improved from 2.53116 to 2.33235, saving model to bestmodel_101class.hdf5\n",
            "Epoch 9/10\n",
            "1183/1183 [==============================] - 1581s 1s/step - loss: 2.7033 - accuracy: 0.4789 - val_loss: 2.1727 - val_accuracy: 0.5992\n",
            "\n",
            "Epoch 00009: val_loss improved from 2.33235 to 2.17273, saving model to bestmodel_101class.hdf5\n",
            "Epoch 10/10\n",
            "1183/1183 [==============================] - 1602s 1s/step - loss: 2.5484 - accuracy: 0.5103 - val_loss: 2.0480 - val_accuracy: 0.6205\n",
            "\n",
            "Epoch 00010: val_loss improved from 2.17273 to 2.04798, saving model to bestmodel_101class.hdf5\n",
            "{'apple_pie': 0, 'baby_back_ribs': 1, 'baklava': 2, 'beef_carpaccio': 3, 'beef_tartare': 4, 'beet_salad': 5, 'beignets': 6, 'bibimbap': 7, 'bread_pudding': 8, 'breakfast_burrito': 9, 'bruschetta': 10, 'caesar_salad': 11, 'cannoli': 12, 'caprese_salad': 13, 'carrot_cake': 14, 'ceviche': 15, 'cheese_plate': 16, 'cheesecake': 17, 'chicken_curry': 18, 'chicken_quesadilla': 19, 'chicken_wings': 20, 'chocolate_cake': 21, 'chocolate_mousse': 22, 'churros': 23, 'clam_chowder': 24, 'club_sandwich': 25, 'crab_cakes': 26, 'creme_brulee': 27, 'croque_madame': 28, 'cup_cakes': 29, 'deviled_eggs': 30, 'donuts': 31, 'dumplings': 32, 'edamame': 33, 'eggs_benedict': 34, 'escargots': 35, 'falafel': 36, 'filet_mignon': 37, 'fish_and_chips': 38, 'foie_gras': 39, 'french_fries': 40, 'french_onion_soup': 41, 'french_toast': 42, 'fried_calamari': 43, 'fried_rice': 44, 'frozen_yogurt': 45, 'garlic_bread': 46, 'gnocchi': 47, 'greek_salad': 48, 'grilled_cheese_sandwich': 49, 'grilled_salmon': 50, 'guacamole': 51, 'gyoza': 52, 'hamburger': 53, 'hot_and_sour_soup': 54, 'hot_dog': 55, 'huevos_rancheros': 56, 'hummus': 57, 'ice_cream': 58, 'lasagna': 59, 'lobster_bisque': 60, 'lobster_roll_sandwich': 61, 'macaroni_and_cheese': 62, 'macarons': 63, 'miso_soup': 64, 'mussels': 65, 'nachos': 66, 'omelette': 67, 'onion_rings': 68, 'oysters': 69, 'pad_thai': 70, 'paella': 71, 'pancakes': 72, 'panna_cotta': 73, 'peking_duck': 74, 'pho': 75, 'pizza': 76, 'pork_chop': 77, 'poutine': 78, 'prime_rib': 79, 'pulled_pork_sandwich': 80, 'ramen': 81, 'ravioli': 82, 'red_velvet_cake': 83, 'risotto': 84, 'samosa': 85, 'sashimi': 86, 'scallops': 87, 'seaweed_salad': 88, 'shrimp_and_grits': 89, 'spaghetti_bolognese': 90, 'spaghetti_carbonara': 91, 'spring_rolls': 92, 'steak': 93, 'strawberry_shortcake': 94, 'sushi': 95, 'tacos': 96, 'takoyaki': 97, 'tiramisu': 98, 'tuna_tartare': 99, 'waffles': 100}\n"
          ],
          "name": "stdout"
        }
      ]
    },
    {
      "cell_type": "markdown",
      "metadata": {
        "id": "Tv7UHuP1_4HR"
      },
      "source": [
        "## 정확도(accuracy)와 손실값(loss)를 시각화한다."
      ]
    },
    {
      "cell_type": "code",
      "metadata": {
        "colab": {
          "base_uri": "https://localhost:8080/",
          "height": 573
        },
        "id": "oUzKXYUm_8KR",
        "outputId": "b8271f36-01c0-4f3e-d4f0-abaa686304a9"
      },
      "source": [
        "def plot_accuracy(history,title):\n",
        "    plt.title(title)\n",
        "    plt.plot(history.history['accuracy']) # change acc to accuracy if testing TF 2.0\n",
        "    plt.plot(history.history['val_accuracy']) # change val_accuracy if testing TF 2.0\n",
        "    plt.ylabel('accuracy')\n",
        "    plt.xlabel('epoch')\n",
        "    plt.legend(['train_accuracy', 'validation_accuracy'], loc='best')\n",
        "    plt.show()\n",
        "\n",
        "\n",
        "def plot_loss(history,title):\n",
        "    plt.title(title)\n",
        "    plt.plot(history.history['loss'])\n",
        "    plt.plot(history.history['val_loss'])\n",
        "    plt.ylabel('loss')\n",
        "    plt.xlabel('epoch')\n",
        "    plt.legend(['train_loss', 'validation_loss'], loc='best')\n",
        "    plt.show()\n",
        "\n",
        "\n",
        "plot_accuracy(history,'FOOD101-Inceptionv3')\n",
        "plot_loss(history,'FOOD101-Inceptionv3')"
      ],
      "execution_count": 44,
      "outputs": [
        {
          "output_type": "display_data",
          "data": {
            "image/png": "[encoded data removed]",
            "text/plain": [
              "<Figure size 432x288 with 1 Axes>"
            ]
          },
          "metadata": {
            "tags": [],
            "needs_background": "light"
          }
        },
        {
          "output_type": "display_data",
          "data": {
            "image/png": "[encoded data removed]",
            "text/plain": [
              "<Figure size 432x288 with 1 Axes>"
            ]
          },
          "metadata": {
            "tags": [],
            "needs_background": "light"
          }
        }
      ]
    },
    {
      "cell_type": "markdown",
      "metadata": {
        "id": "2wwAlY9t_9Dw"
      },
      "source": [
        "## 훈련된 모델로 음식 이미지를 예측"
      ]
    },
    {
      "cell_type": "code",
      "metadata": {
        "colab": {
          "base_uri": "https://localhost:8080/"
        },
        "id": "bcTb_vPWAHDg",
        "outputId": "3bb4b5fa-6876-4fdd-823f-f1952bf87e4d"
      },
      "source": [
        "%%time\n",
        "# Loading the best saved model to make predictions\n",
        "\n",
        "K.clear_session()\n",
        "model_best = load_model('bestmodel_101class.hdf5',compile = False)"
      ],
      "execution_count": 45,
      "outputs": [
        {
          "output_type": "stream",
          "text": [
            "CPU times: user 1.9 s, sys: 71.8 ms, total: 1.97 s\n",
            "Wall time: 2.06 s\n"
          ],
          "name": "stdout"
        }
      ]
    },
    {
      "cell_type": "markdown",
      "metadata": {
        "id": "zhSEX25RADzn"
      },
      "source": [
        "### 단일 이미지 예측"
      ]
    },
    {
      "cell_type": "code",
      "metadata": {
        "id": "1ZqksIAfAznO"
      },
      "source": [
        "def predict_class_single(model, img, show = True):\n",
        "  img = image.load_img(img, target_size=(256, 256))\n",
        "  img = image.img_to_array(img)                    \n",
        "  img = np.expand_dims(img, axis=0)         \n",
        "  img = preprocess_input(img)                                      \n",
        "\n",
        "  pred = model.predict(img)\n",
        "  index = np.argmax(pred)\n",
        "  pred_value = foods_sorted[index]\n",
        "  #print(pred)\n",
        "  if show:\n",
        "      plt.imshow(img[0])                           \n",
        "      plt.axis('off')\n",
        "      plt.title(pred_value)\n",
        "      plt.show()"
      ],
      "execution_count": 58,
      "outputs": []
    },
    {
      "cell_type": "code",
      "metadata": {
        "colab": {
          "base_uri": "https://localhost:8080/",
          "height": 282
        },
        "id": "ew1DxsDCA5Xp",
        "outputId": "6d947869-9d9b-4618-dd60-a630d9bc67ab"
      },
      "source": [
        "# imagepath = '/content/food-101/test/samosa/144404.jpg'\n",
        "imagepath = '/content/food-101/test/lasagna/1338545.jpg'\n",
        "predict_class_single(model_best, imagepath, True)"
      ],
      "execution_count": 59,
      "outputs": [
        {
          "output_type": "stream",
          "text": [
            "Clipping input data to the valid range for imshow with RGB data ([0..1] for floats or [0..255] for integers).\n"
          ],
          "name": "stderr"
        },
        {
          "output_type": "display_data",
          "data": {
            "image/png": "[encoded data removed]",
            "text/plain": [
              "<Figure size 432x288 with 1 Axes>"
            ]
          },
          "metadata": {
            "tags": [],
            "needs_background": "light"
          }
        }
      ]
    },
    {
      "cell_type": "markdown",
      "metadata": {
        "id": "MhWV97FYAbhI"
      },
      "source": [
        "### 멀티 이미지 예측"
      ]
    },
    {
      "cell_type": "code",
      "metadata": {
        "id": "QuMqsxJO__2Q"
      },
      "source": [
        "def predict_class_multi(model, images, show = True):\n",
        "  for img in images:\n",
        "    img = image.load_img(img, target_size=(256, 256))\n",
        "    img = image.img_to_array(img)                    \n",
        "    img = np.expand_dims(img, axis=0)         \n",
        "    img = preprocess_input(img)                                      \n",
        "\n",
        "    pred = model.predict(img)\n",
        "    index = np.argmax(pred)\n",
        "    pred_value = foods_sorted[index]\n",
        "    #print(pred)\n",
        "    if show:\n",
        "        plt.imshow(img[0])                           \n",
        "        plt.axis('off')\n",
        "        plt.title(pred_value)\n",
        "        plt.show()"
      ],
      "execution_count": 56,
      "outputs": []
    },
    {
      "cell_type": "code",
      "metadata": {
        "id": "06SUQEgmAgH4"
      },
      "source": [
        "# Make a list of images and test the trained model\n",
        "images = []\n",
        "imagepath = '/content/food-101/test/'\n",
        "images.append(imagepath+'samosa/144404.jpg')\n",
        "images.append(imagepath+'pizza/11297.jpg')\n",
        "images.append(imagepath+'omelette/1145379.jpg')\n",
        "predict_class_multi(model_best, images, True)"
      ],
      "execution_count": null,
      "outputs": []
    },
    {
      "cell_type": "markdown",
      "metadata": {
        "id": "77cg_-dwjaHV"
      },
      "source": [
        "# 모델 다운로드"
      ]
    },
    {
      "cell_type": "markdown",
      "metadata": {
        "id": "Dc-hGhgyjd_d"
      },
      "source": [
        "먼저 하위 폴더 목록을 확인한다."
      ]
    },
    {
      "cell_type": "code",
      "metadata": {
        "colab": {
          "base_uri": "https://localhost:8080/"
        },
        "id": "3yWKw-9rjcBN",
        "outputId": "44c951ee-b0ed-4352-ec7c-47d169d4bb76"
      },
      "source": [
        "ls"
      ],
      "execution_count": 60,
      "outputs": [
        {
          "output_type": "stream",
          "text": [
            "bestmodel_101class.hdf5  food-101.tar.gz  \u001b[0m\u001b[01;34msample_data\u001b[0m/\n",
            "bestmodel_3class.hdf5    history_101.log  trainedmodel_101class.hdf5\n",
            "\u001b[01;34mfood-101\u001b[0m/                history_3.log    trainedmodel_3class.hdf5\n"
          ],
          "name": "stdout"
        }
      ]
    },
    {
      "cell_type": "markdown",
      "metadata": {
        "id": "i2tQDesdjg3l"
      },
      "source": [
        "다운로드 할 파일 경로를 입력한다."
      ]
    },
    {
      "cell_type": "code",
      "metadata": {
        "colab": {
          "base_uri": "https://localhost:8080/",
          "height": 17
        },
        "id": "VYrG-Laijlju",
        "outputId": "0d01b503-b2f9-49b1-a329-09577de2282d"
      },
      "source": [
        "from google.colab import files\n",
        "\n",
        "files.download('/content/bestmodel_101class.hdf5')"
      ],
      "execution_count": 61,
      "outputs": [
        {
          "output_type": "display_data",
          "data": {
            "application/javascript": [
              "\n",
              "    async function download(id, filename, size) {\n",
              "      if (!google.colab.kernel.accessAllowed) {\n",
              "        return;\n",
              "      }\n",
              "      const div = document.createElement('div');\n",
              "      const label = document.createElement('label');\n",
              "      label.textContent = `Downloading \"${filename}\": `;\n",
              "      div.appendChild(label);\n",
              "      const progress = document.createElement('progress');\n",
              "      progress.max = size;\n",
              "      div.appendChild(progress);\n",
              "      document.body.appendChild(div);\n",
              "\n",
              "      const buffers = [];\n",
              "      let downloaded = 0;\n",
              "\n",
              "      const channel = await google.colab.kernel.comms.open(id);\n",
              "      // Send a message to notify the kernel that we're ready.\n",
              "      channel.send({})\n",
              "\n",
              "      for await (const message of channel.messages) {\n",
              "        // Send a message to notify the kernel that we're ready.\n",
              "        channel.send({})\n",
              "        if (message.buffers) {\n",
              "          for (const buffer of message.buffers) {\n",
              "            buffers.push(buffer);\n",
              "            downloaded += buffer.byteLength;\n",
              "            progress.value = downloaded;\n",
              "          }\n",
              "        }\n",
              "      }\n",
              "      const blob = new Blob(buffers, {type: 'application/binary'});\n",
              "      const a = document.createElement('a');\n",
              "      a.href = window.URL.createObjectURL(blob);\n",
              "      a.download = filename;\n",
              "      div.appendChild(a);\n",
              "      a.click();\n",
              "      div.remove();\n",
              "    }\n",
              "  "
            ],
            "text/plain": [
              "<IPython.core.display.Javascript object>"
            ]
          },
          "metadata": {
            "tags": []
          }
        },
        {
          "output_type": "display_data",
          "data": {
            "application/javascript": [
              "download(\"download_b6bac204-a2b3-4946-aefc-b64c5d3b06d6\", \"bestmodel_101class.hdf5\", 177819784)"
            ],
            "text/plain": [
              "<IPython.core.display.Javascript object>"
            ]
          },
          "metadata": {
            "tags": []
          }
        }
      ]
    }
  ]
}